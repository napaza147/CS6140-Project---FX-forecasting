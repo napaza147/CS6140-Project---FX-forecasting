{
 "cells": [
  {
   "cell_type": "markdown",
   "id": "01d0da97-e038-43ad-94e5-90c178fd1f52",
   "metadata": {},
   "source": [
    "# Implementation of TKAT on USDPEN\n",
    "### We follow https://github.com/remigenet/TKAT for the USDPEN."
   ]
  },
  {
   "cell_type": "markdown",
   "id": "b1569320-892b-4f91-b84c-74fee5ee7144",
   "metadata": {},
   "source": [
    "## Installing and importing packages. "
   ]
  },
  {
   "cell_type": "code",
   "execution_count": 2,
   "id": "13f3a8d4-0bb7-40c9-a47a-8dec7fa23a35",
   "metadata": {},
   "outputs": [
    {
     "name": "stdout",
     "output_type": "stream",
     "text": [
      "Requirement already satisfied: pandas in /Users/iapaza/myenv/lib/python3.10/site-packages (2.2.3)\n",
      "Requirement already satisfied: numpy in /Users/iapaza/myenv/lib/python3.10/site-packages (1.26.4)\n",
      "Requirement already satisfied: matplotlib in /Users/iapaza/myenv/lib/python3.10/site-packages (3.9.2)\n",
      "Requirement already satisfied: tensorflow==2.16.1 in /Users/iapaza/myenv/lib/python3.10/site-packages (2.16.1)\n",
      "Requirement already satisfied: tkan==0.3.0 in /Users/iapaza/myenv/lib/python3.10/site-packages (0.3.0)\n",
      "Requirement already satisfied: tkat==0.1.1 in /Users/iapaza/myenv/lib/python3.10/site-packages (0.1.1)\n",
      "Requirement already satisfied: scikit-learn in /Users/iapaza/myenv/lib/python3.10/site-packages (1.5.2)\n",
      "Requirement already satisfied: pyarrow in /Users/iapaza/myenv/lib/python3.10/site-packages (18.0.0)\n",
      "Requirement already satisfied: absl-py>=1.0.0 in /Users/iapaza/myenv/lib/python3.10/site-packages (from tensorflow==2.16.1) (2.1.0)\n",
      "Requirement already satisfied: astunparse>=1.6.0 in /Users/iapaza/myenv/lib/python3.10/site-packages (from tensorflow==2.16.1) (1.6.3)\n",
      "Requirement already satisfied: flatbuffers>=23.5.26 in /Users/iapaza/myenv/lib/python3.10/site-packages (from tensorflow==2.16.1) (24.3.25)\n",
      "Requirement already satisfied: gast!=0.5.0,!=0.5.1,!=0.5.2,>=0.2.1 in /Users/iapaza/myenv/lib/python3.10/site-packages (from tensorflow==2.16.1) (0.6.0)\n",
      "Requirement already satisfied: google-pasta>=0.1.1 in /Users/iapaza/myenv/lib/python3.10/site-packages (from tensorflow==2.16.1) (0.2.0)\n",
      "Requirement already satisfied: h5py>=3.10.0 in /Users/iapaza/myenv/lib/python3.10/site-packages (from tensorflow==2.16.1) (3.12.1)\n",
      "Requirement already satisfied: libclang>=13.0.0 in /Users/iapaza/myenv/lib/python3.10/site-packages (from tensorflow==2.16.1) (18.1.1)\n",
      "Requirement already satisfied: ml-dtypes~=0.3.1 in /Users/iapaza/myenv/lib/python3.10/site-packages (from tensorflow==2.16.1) (0.3.2)\n",
      "Requirement already satisfied: opt-einsum>=2.3.2 in /Users/iapaza/myenv/lib/python3.10/site-packages (from tensorflow==2.16.1) (3.4.0)\n",
      "Requirement already satisfied: packaging in /Users/iapaza/myenv/lib/python3.10/site-packages (from tensorflow==2.16.1) (24.1)\n",
      "Requirement already satisfied: protobuf!=4.21.0,!=4.21.1,!=4.21.2,!=4.21.3,!=4.21.4,!=4.21.5,<5.0.0dev,>=3.20.3 in /Users/iapaza/myenv/lib/python3.10/site-packages (from tensorflow==2.16.1) (4.25.5)\n",
      "Requirement already satisfied: requests<3,>=2.21.0 in /Users/iapaza/myenv/lib/python3.10/site-packages (from tensorflow==2.16.1) (2.32.3)\n",
      "Requirement already satisfied: setuptools in /Users/iapaza/myenv/lib/python3.10/site-packages (from tensorflow==2.16.1) (74.1.2)\n",
      "Requirement already satisfied: six>=1.12.0 in /Users/iapaza/myenv/lib/python3.10/site-packages (from tensorflow==2.16.1) (1.16.0)\n",
      "Requirement already satisfied: termcolor>=1.1.0 in /Users/iapaza/myenv/lib/python3.10/site-packages (from tensorflow==2.16.1) (2.5.0)\n",
      "Requirement already satisfied: typing-extensions>=3.6.6 in /Users/iapaza/myenv/lib/python3.10/site-packages (from tensorflow==2.16.1) (4.12.2)\n",
      "Requirement already satisfied: wrapt>=1.11.0 in /Users/iapaza/myenv/lib/python3.10/site-packages (from tensorflow==2.16.1) (1.16.0)\n",
      "Requirement already satisfied: grpcio<2.0,>=1.24.3 in /Users/iapaza/myenv/lib/python3.10/site-packages (from tensorflow==2.16.1) (1.67.1)\n",
      "Requirement already satisfied: tensorboard<2.17,>=2.16 in /Users/iapaza/myenv/lib/python3.10/site-packages (from tensorflow==2.16.1) (2.16.2)\n",
      "Requirement already satisfied: keras>=3.0.0 in /Users/iapaza/myenv/lib/python3.10/site-packages (from tensorflow==2.16.1) (3.6.0)\n",
      "Requirement already satisfied: tensorflow-io-gcs-filesystem>=0.23.1 in /Users/iapaza/myenv/lib/python3.10/site-packages (from tensorflow==2.16.1) (0.37.1)\n",
      "Requirement already satisfied: python-dateutil>=2.8.2 in /Users/iapaza/myenv/lib/python3.10/site-packages (from pandas) (2.9.0.post0)\n",
      "Requirement already satisfied: pytz>=2020.1 in /Users/iapaza/myenv/lib/python3.10/site-packages (from pandas) (2024.2)\n",
      "Requirement already satisfied: tzdata>=2022.7 in /Users/iapaza/myenv/lib/python3.10/site-packages (from pandas) (2024.2)\n",
      "Requirement already satisfied: contourpy>=1.0.1 in /Users/iapaza/myenv/lib/python3.10/site-packages (from matplotlib) (1.3.0)\n",
      "Requirement already satisfied: cycler>=0.10 in /Users/iapaza/myenv/lib/python3.10/site-packages (from matplotlib) (0.12.1)\n",
      "Requirement already satisfied: fonttools>=4.22.0 in /Users/iapaza/myenv/lib/python3.10/site-packages (from matplotlib) (4.54.1)\n",
      "Requirement already satisfied: kiwisolver>=1.3.1 in /Users/iapaza/myenv/lib/python3.10/site-packages (from matplotlib) (1.4.7)\n",
      "Requirement already satisfied: pillow>=8 in /Users/iapaza/myenv/lib/python3.10/site-packages (from matplotlib) (11.0.0)\n",
      "Requirement already satisfied: pyparsing>=2.3.1 in /Users/iapaza/myenv/lib/python3.10/site-packages (from matplotlib) (3.2.0)\n",
      "Requirement already satisfied: scipy>=1.6.0 in /Users/iapaza/myenv/lib/python3.10/site-packages (from scikit-learn) (1.14.1)\n",
      "Requirement already satisfied: joblib>=1.2.0 in /Users/iapaza/myenv/lib/python3.10/site-packages (from scikit-learn) (1.4.2)\n",
      "Requirement already satisfied: threadpoolctl>=3.1.0 in /Users/iapaza/myenv/lib/python3.10/site-packages (from scikit-learn) (3.5.0)\n",
      "Requirement already satisfied: wheel<1.0,>=0.23.0 in /Users/iapaza/myenv/lib/python3.10/site-packages (from astunparse>=1.6.0->tensorflow==2.16.1) (0.44.0)\n",
      "Requirement already satisfied: rich in /Users/iapaza/myenv/lib/python3.10/site-packages (from keras>=3.0.0->tensorflow==2.16.1) (13.9.4)\n",
      "Requirement already satisfied: namex in /Users/iapaza/myenv/lib/python3.10/site-packages (from keras>=3.0.0->tensorflow==2.16.1) (0.0.8)\n",
      "Requirement already satisfied: optree in /Users/iapaza/myenv/lib/python3.10/site-packages (from keras>=3.0.0->tensorflow==2.16.1) (0.13.0)\n",
      "Requirement already satisfied: charset-normalizer<4,>=2 in /Users/iapaza/myenv/lib/python3.10/site-packages (from requests<3,>=2.21.0->tensorflow==2.16.1) (3.4.0)\n",
      "Requirement already satisfied: idna<4,>=2.5 in /Users/iapaza/myenv/lib/python3.10/site-packages (from requests<3,>=2.21.0->tensorflow==2.16.1) (3.10)\n",
      "Requirement already satisfied: urllib3<3,>=1.21.1 in /Users/iapaza/myenv/lib/python3.10/site-packages (from requests<3,>=2.21.0->tensorflow==2.16.1) (2.2.3)\n",
      "Requirement already satisfied: certifi>=2017.4.17 in /Users/iapaza/myenv/lib/python3.10/site-packages (from requests<3,>=2.21.0->tensorflow==2.16.1) (2024.8.30)\n",
      "Requirement already satisfied: markdown>=2.6.8 in /Users/iapaza/myenv/lib/python3.10/site-packages (from tensorboard<2.17,>=2.16->tensorflow==2.16.1) (3.7)\n",
      "Requirement already satisfied: tensorboard-data-server<0.8.0,>=0.7.0 in /Users/iapaza/myenv/lib/python3.10/site-packages (from tensorboard<2.17,>=2.16->tensorflow==2.16.1) (0.7.2)\n",
      "Requirement already satisfied: werkzeug>=1.0.1 in /Users/iapaza/myenv/lib/python3.10/site-packages (from tensorboard<2.17,>=2.16->tensorflow==2.16.1) (3.1.1)\n",
      "Requirement already satisfied: MarkupSafe>=2.1.1 in /Users/iapaza/myenv/lib/python3.10/site-packages (from werkzeug>=1.0.1->tensorboard<2.17,>=2.16->tensorflow==2.16.1) (3.0.2)\n",
      "Requirement already satisfied: markdown-it-py>=2.2.0 in /Users/iapaza/myenv/lib/python3.10/site-packages (from rich->keras>=3.0.0->tensorflow==2.16.1) (3.0.0)\n",
      "Requirement already satisfied: pygments<3.0.0,>=2.13.0 in /Users/iapaza/myenv/lib/python3.10/site-packages (from rich->keras>=3.0.0->tensorflow==2.16.1) (2.18.0)\n",
      "Requirement already satisfied: mdurl~=0.1 in /Users/iapaza/myenv/lib/python3.10/site-packages (from markdown-it-py>=2.2.0->rich->keras>=3.0.0->tensorflow==2.16.1) (0.1.2)\n"
     ]
    }
   ],
   "source": [
    "# Basic packages.\n",
    "!pip3 install pandas numpy matplotlib tensorflow==2.16.1 tkan==0.3.0 tkat==0.1.1 scikit-learn pyarrow"
   ]
  },
  {
   "cell_type": "code",
   "execution_count": 3,
   "id": "3fca7421-51be-46a1-8d0e-e669072b0f6c",
   "metadata": {},
   "outputs": [
    {
     "data": {
      "text/plain": [
       "'\\nRelevant codes from the peruvian Central Bank.\\n\\nPD04682MD: Daily interest rate of deposits in PEN, \"instantaneous\" spot of the yield / ... Multicolinear with tc?\\nPD04701XD: Daily price for the copper. Exogenous factor.\\nPD04709XD: EMBIG Spread, country risk indicator. Endogenous factor. Independant?\\nPD04643PD: USDPEN 11 AM Buy\\nPD04644PD: USDPEN 11 AM Bid\\nPD04645PD: USDPEN 01:30 PM Buy\\nPD04646PD: USDPEN 01:30 PM Bid\\n'"
      ]
     },
     "execution_count": 3,
     "metadata": {},
     "output_type": "execute_result"
    }
   ],
   "source": [
    "# Basic imports.\n",
    "# import requests\n",
    "import time\n",
    "import numpy as np\n",
    "import pandas as pd\n",
    "from IPython.display import display\n",
    "import matplotlib.pyplot as plt\n",
    "\n",
    "import tensorflow as tf\n",
    "from tensorflow.keras.models import Sequential\n",
    "from tensorflow.keras.layers import GRU, LSTM, Dense, Flatten, Input\n",
    "\n",
    "from tkan import TKAN\n",
    "from tkat import TKAT\n",
    "\n",
    "from sklearn.metrics import r2_score\n",
    "\n",
    "'''\n",
    "Relevant codes from the peruvian Central Bank.\n",
    "\n",
    "PD04682MD: Daily interest rate of deposits in PEN, \"instantaneous\" spot of the yield / ... Multicolinear with tc?\n",
    "PD04701XD: Daily price for the copper. Exogenous factor.\n",
    "PD04709XD: EMBIG Spread, country risk indicator. Endogenous factor. Independant?\n",
    "PD04643PD: USDPEN 11 AM Buy\n",
    "PD04644PD: USDPEN 11 AM Bid\n",
    "PD04645PD: USDPEN 01:30 PM Buy\n",
    "PD04646PD: USDPEN 01:30 PM Bid\n",
    "'''"
   ]
  },
  {
   "cell_type": "markdown",
   "id": "766e5244-39d6-412d-8e17-81c9b4697cb7",
   "metadata": {},
   "source": [
    "## Utility Functions.\n",
    "### MinMax scaler\n",
    "This scaler makes sure the data we feed the model is normalized between 0 and 1."
   ]
  },
  {
   "cell_type": "code",
   "execution_count": 4,
   "id": "6083afec-967d-4a9c-8837-5a536256c54c",
   "metadata": {},
   "outputs": [],
   "source": [
    "# From TKAT MinMaxScaler\n",
    "class MinMaxScaler:\n",
    "    def __init__(self, feature_axis=None, minmax_range=(0, 1)):\n",
    "        \"\"\"\n",
    "        Initializating the class\n",
    "        Args:\n",
    "        feature_axis (int, optional): The axis that represents the feature dimension if applicable.\n",
    "                                      Use only for 3D data to specify which axis is the feature axis.\n",
    "                                      Default is None, automatically managed based on data dimensions.\n",
    "                                      Usual structure:\n",
    "                                      [0] = data point\n",
    "                                      [1] = time\n",
    "                                      [2] = features\n",
    "        minmax_range (0, 1):          Range for custom range of transformed values.                         \n",
    "        \"\"\"\n",
    "        self.feature_axis = feature_axis\n",
    "        self.min_ = None\n",
    "        self.max_ = None\n",
    "        self.scale_ = None\n",
    "        self.minmax_range = minmax_range # 0-1 range by default\n",
    "\n",
    "    def fit(self, X):\n",
    "        \"\"\"\n",
    "        Fit the scaler to the data based on its dimensionality.\n",
    "        Args:\n",
    "        X (np.array): The data to fit the scaler on.\n",
    "        Returns:\n",
    "        The scale, mins and maxs of the data provided. Updates the class components.\n",
    "        \"\"\"\n",
    "        if X.ndim == 3 and self.feature_axis is not None:  # 3D data\n",
    "            axis = tuple(i for i in range(X.ndim) if i != self.feature_axis)\n",
    "            self.min_ = np.min(X, axis=axis)\n",
    "            self.max_ = np.max(X, axis=axis)\n",
    "        elif X.ndim == 2:  # 2D data. Including a feature. \n",
    "            self.min_ = np.min(X, axis=0)\n",
    "            self.max_ = np.max(X, axis=0)\n",
    "        elif X.ndim == 1:  # 1D data, an array of features for one point in history.\n",
    "            self.min_ = np.min(X)\n",
    "            self.max_ = np.max(X)\n",
    "        else:\n",
    "            raise ValueError(\"Data must be 1D, 2D, or 3D.\")\n",
    "\n",
    "        self.scale_ = self.max_ - self.min_\n",
    "        return self\n",
    "\n",
    "    def transform(self, X):\n",
    "        \"\"\"\n",
    "        Transform the data using the fitted scaler.\n",
    "        Args:\n",
    "        X (np.array): The data to transform.\n",
    "        Returns:\n",
    "        np.array: The scaled data, stretched to the custom range.\n",
    "        \"\"\"\n",
    "        X_scaled = (X - self.min_) / self.scale_ # Min = 0, Max = 1.\n",
    "        X_scaled = X_scaled * (self.minmax_range[1] - self.minmax_range[0]) + self.minmax_range[0]\n",
    "        return X_scaled\n",
    "\n",
    "    def fit_transform(self, X):\n",
    "        \"\"\"\n",
    "        Fit to data, then transform it.\n",
    "        Args:\n",
    "        X (np.array): The data to fit and transform.\n",
    "        Returns:\n",
    "        np.array: The scaled data.\n",
    "        \"\"\"\n",
    "        return self.fit(X).transform(X)\n",
    "\n",
    "    def inverse_transform(self, X_scaled):\n",
    "        \"\"\"\n",
    "        Inverse transform the scaled data to original data.\n",
    "        Args:\n",
    "        X_scaled (np.array): The scaled data to inverse transform.\n",
    "        Returns:\n",
    "        np.array: The original scaled data, reverting custom range.\n",
    "        \"\"\"\n",
    "        X = (X_scaled - self.minmax_range[0]) / (self.minmax_range[1] - self.minmax_range[0])\n",
    "        X = X * self.scale_ + self.min_\n",
    "        return X"
   ]
  },
  {
   "cell_type": "markdown",
   "id": "00e7508d-a684-4ca0-9dc6-2651253646d6",
   "metadata": {},
   "source": [
    "# Building USDPEN data"
   ]
  },
  {
   "cell_type": "code",
   "execution_count": 5,
   "id": "c44c06b3-f4bb-462e-a2e9-7ac58bddc714",
   "metadata": {},
   "outputs": [
    {
     "name": "stdout",
     "output_type": "stream",
     "text": [
      "Requirement already satisfied: alpha_vantage in /Users/iapaza/myenv/lib/python3.10/site-packages (3.0.0)\n",
      "Requirement already satisfied: aiohttp in /Users/iapaza/myenv/lib/python3.10/site-packages (from alpha_vantage) (3.10.10)\n",
      "Requirement already satisfied: requests in /Users/iapaza/myenv/lib/python3.10/site-packages (from alpha_vantage) (2.32.3)\n",
      "Requirement already satisfied: aiohappyeyeballs>=2.3.0 in /Users/iapaza/myenv/lib/python3.10/site-packages (from aiohttp->alpha_vantage) (2.4.3)\n",
      "Requirement already satisfied: aiosignal>=1.1.2 in /Users/iapaza/myenv/lib/python3.10/site-packages (from aiohttp->alpha_vantage) (1.3.1)\n",
      "Requirement already satisfied: attrs>=17.3.0 in /Users/iapaza/myenv/lib/python3.10/site-packages (from aiohttp->alpha_vantage) (24.2.0)\n",
      "Requirement already satisfied: frozenlist>=1.1.1 in /Users/iapaza/myenv/lib/python3.10/site-packages (from aiohttp->alpha_vantage) (1.5.0)\n",
      "Requirement already satisfied: multidict<7.0,>=4.5 in /Users/iapaza/myenv/lib/python3.10/site-packages (from aiohttp->alpha_vantage) (6.1.0)\n",
      "Requirement already satisfied: yarl<2.0,>=1.12.0 in /Users/iapaza/myenv/lib/python3.10/site-packages (from aiohttp->alpha_vantage) (1.17.1)\n",
      "Requirement already satisfied: async-timeout<5.0,>=4.0 in /Users/iapaza/myenv/lib/python3.10/site-packages (from aiohttp->alpha_vantage) (4.0.3)\n",
      "Requirement already satisfied: charset-normalizer<4,>=2 in /Users/iapaza/myenv/lib/python3.10/site-packages (from requests->alpha_vantage) (3.4.0)\n",
      "Requirement already satisfied: idna<4,>=2.5 in /Users/iapaza/myenv/lib/python3.10/site-packages (from requests->alpha_vantage) (3.10)\n",
      "Requirement already satisfied: urllib3<3,>=1.21.1 in /Users/iapaza/myenv/lib/python3.10/site-packages (from requests->alpha_vantage) (2.2.3)\n",
      "Requirement already satisfied: certifi>=2017.4.17 in /Users/iapaza/myenv/lib/python3.10/site-packages (from requests->alpha_vantage) (2024.8.30)\n",
      "Requirement already satisfied: typing-extensions>=4.1.0 in /Users/iapaza/myenv/lib/python3.10/site-packages (from multidict<7.0,>=4.5->aiohttp->alpha_vantage) (4.12.2)\n",
      "Requirement already satisfied: propcache>=0.2.0 in /Users/iapaza/myenv/lib/python3.10/site-packages (from yarl<2.0,>=1.12.0->aiohttp->alpha_vantage) (0.2.0)\n"
     ]
    }
   ],
   "source": [
    "!pip install alpha_vantage"
   ]
  },
  {
   "cell_type": "code",
   "execution_count": 38,
   "id": "84e6385c-fdd1-4b4d-b211-2011cdc1009a",
   "metadata": {},
   "outputs": [
    {
     "name": "stdout",
     "output_type": "stream",
     "text": [
      "USDPEN done\n",
      "EURPEN done\n",
      "CHFPEN done\n",
      "JPYPEN done\n",
      "AUDPEN done\n",
      "CADPEN done\n",
      "GBPPEN done\n",
      "Error fetching data for PENBRX: Invalid API call. Please retry or visit the documentation (https://www.alphavantage.co/documentation/) for TIME_SERIES_DAILY.\n",
      "Data saved to currency_pairs2.parquet\n"
     ]
    }
   ],
   "source": [
    "import datetime as dt\n",
    "from alpha_vantage.timeseries import TimeSeries\n",
    "\n",
    "# Initialize the Alpha Vantage API\n",
    "ts = TimeSeries(key='GUUHGN4HUSL6UGNG')\n",
    "\n",
    "pairs = [\n",
    "    \"USDPEN\",\n",
    "    \"EURPEN\",\n",
    "    \"CHFPEN\",\n",
    "    \"JPYPEN\",\n",
    "    \"AUDPEN\",\n",
    "    \"CADPEN\",\n",
    "    \"GBPPEN\",\n",
    "    \"PENBRX\"\n",
    "]\n",
    "\n",
    "# Define a consistent column structure\n",
    "column_names = ['timestamp', 'open', 'high', 'low', 'close', 'volume', 'pair']\n",
    "all_data = []\n",
    "\n",
    "for pair in pairs:\n",
    "    try:\n",
    "        # Fetch daily data\n",
    "        data, metadata = ts.get_daily(symbol=pair, outputsize='full')\n",
    "        # Convert to DataFrame\n",
    "        df = pd.DataFrame.from_dict(data, orient='index')\n",
    "        df.reset_index(inplace=True)  # Reset index to make timestamp a column\n",
    "        df.columns = ['timestamp', 'open', 'high', 'low', 'close', 'volume']  # Rename columns\n",
    "        df['timestamp'] = pd.to_datetime(df['timestamp'])  # Ensure the timestamp is datetime\n",
    "        df['pair'] = pair  # Add currency pair column\n",
    "        \n",
    "        # Handle special case for PENBRX\n",
    "        if pair == \"PENBRX\":\n",
    "            df['open'] = 1 / df['open'].astype(float)\n",
    "            df['high'] = 1 / df['high'].astype(float)\n",
    "            df['low'] = 1 / df['low'].astype(float)\n",
    "            df['close'] = 1 / df['close'].astype(float)\n",
    "\n",
    "        # Append to the list\n",
    "        all_data.append(df)\n",
    "        print(f\"{pair} done\")\n",
    "    except Exception as e:\n",
    "        print(f\"Error fetching data for {pair}: {e}\")\n",
    "\n",
    "# Combine all DataFrames into one\n",
    "final_df = pd.concat(all_data, ignore_index=True)\n",
    "\n",
    "# Ensure column consistency\n",
    "final_df = final_df[column_names]\n",
    "\n",
    "# Save to a Parquet file\n",
    "final_df.to_parquet('currency_pairs2.parquet', engine='pyarrow')\n",
    "print(\"Data saved to currency_pairs2.parquet\")\n"
   ]
  },
  {
   "cell_type": "code",
   "execution_count": 6,
   "id": "09bebf86-3bb4-4164-bab7-2771c5a8a855",
   "metadata": {},
   "outputs": [
    {
     "name": "stdout",
     "output_type": "stream",
     "text": [
      "Pivoted data saved to pivoted_currency_pairs.parquet\n"
     ]
    }
   ],
   "source": [
    "# FIRST RUN.\n",
    "\n",
    "# Step 1: Load the existing Parquet file\n",
    "df = pd.read_parquet(\"currency_pairs2.parquet\")\n",
    "\n",
    "# Step 2: Pivot the DataFrame\n",
    "# Assuming the columns are ['timestamp', 'pair', 'open', 'high', 'low', 'close', 'volume']\n",
    "pivoted_df = df.pivot(index='timestamp', columns='pair', values=['open', 'high', 'low', 'close', 'volume'])\n",
    "\n",
    "# Step 3: Flatten the MultiIndex in columns\n",
    "pivoted_df.columns = ['_'.join(col).strip() for col in pivoted_df.columns.values]\n",
    "pivoted_df.reset_index(inplace=True)\n",
    "\n",
    "# Step 4: Save the pivoted DataFrame to a new Parquet file\n",
    "pivoted_df.to_parquet(\"pivoted_currency_pairs.parquet\", engine=\"pyarrow\")\n",
    "\n",
    "print(\"Pivoted data saved to pivoted_currency_pairs.parquet\")\n"
   ]
  },
  {
   "cell_type": "code",
   "execution_count": 3,
   "id": "6513cd18-4f1a-4830-9175-54c075ff73be",
   "metadata": {},
   "outputs": [
    {
     "name": "stdout",
     "output_type": "stream",
     "text": [
      "       timestamp    open    high     low   close volume    pair\n",
      "0     2024-11-15  3.8022  3.8042  3.8020  3.8042      0  USDPEN\n",
      "1     2024-11-14  3.8005  3.8040  3.8004  3.8022      0  USDPEN\n",
      "2     2024-11-13  3.7858  3.8017  3.7858  3.8005      0  USDPEN\n",
      "3     2024-11-12  3.7747  3.7900  3.7746  3.7860      0  USDPEN\n",
      "4     2024-11-11  3.7686  3.7747  3.7686  3.7747      0  USDPEN\n",
      "...          ...     ...     ...     ...     ...    ...     ...\n",
      "18261 2014-11-13  4.6302  4.6328  4.6103  4.6121      0  GBPPEN\n",
      "18262 2014-11-12  4.6631  4.6659  4.6288  4.6296      0  GBPPEN\n",
      "18263 2014-11-11  4.6504  4.6708  4.6504  4.6641      0  GBPPEN\n",
      "18264 2014-11-10  4.6514  4.6594  4.6398  4.6411      0  GBPPEN\n",
      "18265 2014-11-07  4.6423  4.6510  4.6419  4.6482      0  GBPPEN\n",
      "\n",
      "[18266 rows x 7 columns]\n"
     ]
    }
   ],
   "source": [
    "# Read the Parquet file\n",
    "df = pd.read_parquet('currency_pairs2.parquet', engine='pyarrow')  # or engine='fastparquet'\n",
    "\n",
    "# Display the DataFrame\n",
    "print(df)"
   ]
  },
  {
   "cell_type": "code",
   "execution_count": 4,
   "id": "52813572-236d-4036-a4aa-eded65942f8c",
   "metadata": {},
   "outputs": [
    {
     "name": "stdout",
     "output_type": "stream",
     "text": [
      "      timestamp open_AUDPEN open_CADPEN open_CHFPEN open_EURPEN open_GBPPEN  \\\n",
      "0    2014-11-07      2.5188      2.5771      3.0223      3.6370      4.6423   \n",
      "1    2014-11-10      2.5270      2.5811      3.0342      3.6500      4.6514   \n",
      "2    2014-11-11      2.5322      2.5796      3.0260      3.6410      4.6504   \n",
      "3    2014-11-12      2.5420      2.5794      3.0366      3.6540      4.6631   \n",
      "4    2014-11-13      2.5535      2.5895      3.0351      3.6500      4.6302   \n",
      "...         ...         ...         ...         ...         ...         ...   \n",
      "2605 2024-11-11      2.4799      2.7045      4.3023      4.0420      4.8703   \n",
      "2606 2024-11-12      2.4780      2.7076      4.2872      4.0241      4.8596   \n",
      "2607 2024-11-13      2.4670      2.7092      4.2875      4.0193      4.8260   \n",
      "2608 2024-11-14      2.4637      2.7126      4.2916      4.0158      4.8312   \n",
      "2609 2024-11-15      2.4556      2.7009      4.2765      4.0098      4.8226   \n",
      "\n",
      "     open_JPYPEN open_USDPEN high_AUDPEN high_CADPEN  ... close_GBPPEN  \\\n",
      "0         0.0250      2.9285      2.5294      2.5837  ...       4.6482   \n",
      "1         0.0251      2.9270      2.5379      2.5856  ...       4.6411   \n",
      "2         0.0248      2.9280      2.5490      2.5841  ...       4.6641   \n",
      "3         0.0248      2.9280      2.5620      2.5980  ...       4.6296   \n",
      "4         0.0249      2.9350      2.5644      2.5919  ...       4.6121   \n",
      "...          ...         ...         ...         ...  ...          ...   \n",
      "2605      0.0241      3.7686      2.4816      2.7078  ...       4.8598   \n",
      "2606      0.0241      3.7747      2.4807      2.7133  ...       4.8289   \n",
      "2607      0.0239      3.7858      2.4684      2.7165  ...       4.8321   \n",
      "2608      0.0240      3.8005      2.4646      2.7129  ...       4.8241   \n",
      "2609      0.0238      3.8022      2.4572      2.7023  ...       4.8019   \n",
      "\n",
      "     close_JPYPEN close_USDPEN volume_AUDPEN volume_CADPEN volume_CHFPEN  \\\n",
      "0          0.0251       2.9270             0             0             0   \n",
      "1          0.0250       2.9270             0             0             0   \n",
      "2          0.0248       2.9280             0             0             0   \n",
      "3          0.0249       2.9350             0             0             0   \n",
      "4          0.0249       2.9345             0             0             0   \n",
      "...           ...          ...           ...           ...           ...   \n",
      "2605       0.0241       3.7747             0             0             0   \n",
      "2606       0.0240       3.7860             0             0             0   \n",
      "2607       0.0239       3.8005             0             0             0   \n",
      "2608       0.0239       3.8022             0             0             0   \n",
      "2609       0.0241       3.8042             0             0             0   \n",
      "\n",
      "     volume_EURPEN volume_GBPPEN volume_JPYPEN volume_USDPEN  \n",
      "0                0             0             0             0  \n",
      "1                0             0             0             0  \n",
      "2                0             0             0             0  \n",
      "3                0             0             0             0  \n",
      "4                0             0             0             0  \n",
      "...            ...           ...           ...           ...  \n",
      "2605             0             0             0             0  \n",
      "2606             0             0             0             0  \n",
      "2607             0             0             0             0  \n",
      "2608             0             0             0             0  \n",
      "2609             0             0             0             0  \n",
      "\n",
      "[2610 rows x 36 columns]\n"
     ]
    }
   ],
   "source": [
    "# Read the Parquet file\n",
    "df2 = pd.read_parquet('pivoted_currency_pairs.parquet', engine='pyarrow')  # or engine='fastparquet'\n",
    "\n",
    "# Display the DataFrame\n",
    "print(df2)"
   ]
  },
  {
   "cell_type": "code",
   "execution_count": 28,
   "id": "976bae30-ed96-47d6-906f-eb6790b61882",
   "metadata": {},
   "outputs": [
    {
     "data": {
      "text/html": [
       "<div>\n",
       "<style scoped>\n",
       "    .dataframe tbody tr th:only-of-type {\n",
       "        vertical-align: middle;\n",
       "    }\n",
       "\n",
       "    .dataframe tbody tr th {\n",
       "        vertical-align: top;\n",
       "    }\n",
       "\n",
       "    .dataframe thead th {\n",
       "        text-align: right;\n",
       "    }\n",
       "</style>\n",
       "<table border=\"1\" class=\"dataframe\">\n",
       "  <thead>\n",
       "    <tr style=\"text-align: right;\">\n",
       "      <th></th>\n",
       "      <th>close_AUDPEN</th>\n",
       "      <th>close_CADPEN</th>\n",
       "      <th>close_CHFPEN</th>\n",
       "      <th>close_EURPEN</th>\n",
       "      <th>close_GBPPEN</th>\n",
       "      <th>close_JPYPEN</th>\n",
       "      <th>close_USDPEN</th>\n",
       "    </tr>\n",
       "    <tr>\n",
       "      <th>timestamp</th>\n",
       "      <th></th>\n",
       "      <th></th>\n",
       "      <th></th>\n",
       "      <th></th>\n",
       "      <th></th>\n",
       "      <th></th>\n",
       "      <th></th>\n",
       "    </tr>\n",
       "  </thead>\n",
       "  <tbody>\n",
       "    <tr>\n",
       "      <th>2014-11-07</th>\n",
       "      <td>2.5240</td>\n",
       "      <td>2.5807</td>\n",
       "      <td>3.0292</td>\n",
       "      <td>3.6470</td>\n",
       "      <td>4.6482</td>\n",
       "      <td>0.0251</td>\n",
       "      <td>2.9270</td>\n",
       "    </tr>\n",
       "    <tr>\n",
       "      <th>2014-11-10</th>\n",
       "      <td>2.5211</td>\n",
       "      <td>2.5700</td>\n",
       "      <td>3.0248</td>\n",
       "      <td>3.6380</td>\n",
       "      <td>4.6411</td>\n",
       "      <td>0.0250</td>\n",
       "      <td>2.9270</td>\n",
       "    </tr>\n",
       "    <tr>\n",
       "      <th>2014-11-11</th>\n",
       "      <td>2.5423</td>\n",
       "      <td>2.5787</td>\n",
       "      <td>3.0368</td>\n",
       "      <td>3.6540</td>\n",
       "      <td>4.6641</td>\n",
       "      <td>0.0248</td>\n",
       "      <td>2.9280</td>\n",
       "    </tr>\n",
       "    <tr>\n",
       "      <th>2014-11-12</th>\n",
       "      <td>2.5544</td>\n",
       "      <td>2.5894</td>\n",
       "      <td>3.0364</td>\n",
       "      <td>3.6500</td>\n",
       "      <td>4.6296</td>\n",
       "      <td>0.0249</td>\n",
       "      <td>2.9350</td>\n",
       "    </tr>\n",
       "    <tr>\n",
       "      <th>2014-11-13</th>\n",
       "      <td>2.5530</td>\n",
       "      <td>2.5773</td>\n",
       "      <td>3.0466</td>\n",
       "      <td>3.6630</td>\n",
       "      <td>4.6121</td>\n",
       "      <td>0.0249</td>\n",
       "      <td>2.9345</td>\n",
       "    </tr>\n",
       "    <tr>\n",
       "      <th>...</th>\n",
       "      <td>...</td>\n",
       "      <td>...</td>\n",
       "      <td>...</td>\n",
       "      <td>...</td>\n",
       "      <td>...</td>\n",
       "      <td>...</td>\n",
       "      <td>...</td>\n",
       "    </tr>\n",
       "    <tr>\n",
       "      <th>2024-11-11</th>\n",
       "      <td>2.4783</td>\n",
       "      <td>2.7076</td>\n",
       "      <td>4.2864</td>\n",
       "      <td>4.0238</td>\n",
       "      <td>4.8598</td>\n",
       "      <td>0.0241</td>\n",
       "      <td>3.7747</td>\n",
       "    </tr>\n",
       "    <tr>\n",
       "      <th>2024-11-12</th>\n",
       "      <td>2.4716</td>\n",
       "      <td>2.7125</td>\n",
       "      <td>4.2952</td>\n",
       "      <td>4.0240</td>\n",
       "      <td>4.8289</td>\n",
       "      <td>0.0240</td>\n",
       "      <td>3.7860</td>\n",
       "    </tr>\n",
       "    <tr>\n",
       "      <th>2024-11-13</th>\n",
       "      <td>2.4614</td>\n",
       "      <td>2.7115</td>\n",
       "      <td>4.2898</td>\n",
       "      <td>4.0159</td>\n",
       "      <td>4.8321</td>\n",
       "      <td>0.0239</td>\n",
       "      <td>3.8005</td>\n",
       "    </tr>\n",
       "    <tr>\n",
       "      <th>2024-11-14</th>\n",
       "      <td>2.4550</td>\n",
       "      <td>2.7049</td>\n",
       "      <td>4.2793</td>\n",
       "      <td>4.0104</td>\n",
       "      <td>4.8241</td>\n",
       "      <td>0.0239</td>\n",
       "      <td>3.8022</td>\n",
       "    </tr>\n",
       "    <tr>\n",
       "      <th>2024-11-15</th>\n",
       "      <td>2.4545</td>\n",
       "      <td>2.6959</td>\n",
       "      <td>4.2833</td>\n",
       "      <td>4.0087</td>\n",
       "      <td>4.8019</td>\n",
       "      <td>0.0241</td>\n",
       "      <td>3.8042</td>\n",
       "    </tr>\n",
       "  </tbody>\n",
       "</table>\n",
       "<p>2610 rows × 7 columns</p>\n",
       "</div>"
      ],
      "text/plain": [
       "           close_AUDPEN close_CADPEN close_CHFPEN close_EURPEN close_GBPPEN  \\\n",
       "timestamp                                                                     \n",
       "2014-11-07       2.5240       2.5807       3.0292       3.6470       4.6482   \n",
       "2014-11-10       2.5211       2.5700       3.0248       3.6380       4.6411   \n",
       "2014-11-11       2.5423       2.5787       3.0368       3.6540       4.6641   \n",
       "2014-11-12       2.5544       2.5894       3.0364       3.6500       4.6296   \n",
       "2014-11-13       2.5530       2.5773       3.0466       3.6630       4.6121   \n",
       "...                 ...          ...          ...          ...          ...   \n",
       "2024-11-11       2.4783       2.7076       4.2864       4.0238       4.8598   \n",
       "2024-11-12       2.4716       2.7125       4.2952       4.0240       4.8289   \n",
       "2024-11-13       2.4614       2.7115       4.2898       4.0159       4.8321   \n",
       "2024-11-14       2.4550       2.7049       4.2793       4.0104       4.8241   \n",
       "2024-11-15       2.4545       2.6959       4.2833       4.0087       4.8019   \n",
       "\n",
       "           close_JPYPEN close_USDPEN  \n",
       "timestamp                             \n",
       "2014-11-07       0.0251       2.9270  \n",
       "2014-11-10       0.0250       2.9270  \n",
       "2014-11-11       0.0248       2.9280  \n",
       "2014-11-12       0.0249       2.9350  \n",
       "2014-11-13       0.0249       2.9345  \n",
       "...                 ...          ...  \n",
       "2024-11-11       0.0241       3.7747  \n",
       "2024-11-12       0.0240       3.7860  \n",
       "2024-11-13       0.0239       3.8005  \n",
       "2024-11-14       0.0239       3.8022  \n",
       "2024-11-15       0.0241       3.8042  \n",
       "\n",
       "[2610 rows x 7 columns]"
      ]
     },
     "metadata": {},
     "output_type": "display_data"
    }
   ],
   "source": [
    "# Keeping only closing prices.\n",
    "\n",
    "df = pd.read_parquet('pivoted_currency_pairs.parquet')\n",
    "assets = [\"USDPEN\",\n",
    "    \"EURPEN\",\n",
    "    \"CHFPEN\",\n",
    "    \"JPYPEN\",\n",
    "    \"AUDPEN\",\n",
    "    \"CADPEN\",\n",
    "    \"GBPPEN\",\n",
    "    \"timestamp\"]\n",
    "\n",
    "df = df.reset_index()\n",
    "df = df[['timestamp'] + [c for c in df.columns if 'close' in c and any(asset in c for asset in assets)]]\n",
    "df = df.set_index('timestamp')\n",
    "display(df)"
   ]
  },
  {
   "cell_type": "code",
   "execution_count": 29,
   "id": "9548175d-c6ae-4fe9-9bee-00ce700ee98b",
   "metadata": {},
   "outputs": [
    {
     "data": {
      "text/html": [
       "<div>\n",
       "<style scoped>\n",
       "    .dataframe tbody tr th:only-of-type {\n",
       "        vertical-align: middle;\n",
       "    }\n",
       "\n",
       "    .dataframe tbody tr th {\n",
       "        vertical-align: top;\n",
       "    }\n",
       "\n",
       "    .dataframe thead th {\n",
       "        text-align: right;\n",
       "    }\n",
       "</style>\n",
       "<table border=\"1\" class=\"dataframe\">\n",
       "  <thead>\n",
       "    <tr style=\"text-align: right;\">\n",
       "      <th></th>\n",
       "      <th>AUDPEN</th>\n",
       "      <th>CADPEN</th>\n",
       "      <th>CHFPEN</th>\n",
       "      <th>EURPEN</th>\n",
       "      <th>GBPPEN</th>\n",
       "      <th>JPYPEN</th>\n",
       "      <th>USDPEN</th>\n",
       "    </tr>\n",
       "    <tr>\n",
       "      <th>timestamp</th>\n",
       "      <th></th>\n",
       "      <th></th>\n",
       "      <th></th>\n",
       "      <th></th>\n",
       "      <th></th>\n",
       "      <th></th>\n",
       "      <th></th>\n",
       "    </tr>\n",
       "  </thead>\n",
       "  <tbody>\n",
       "    <tr>\n",
       "      <th>2014-11-07</th>\n",
       "      <td>2.5240</td>\n",
       "      <td>2.5807</td>\n",
       "      <td>3.0292</td>\n",
       "      <td>3.6470</td>\n",
       "      <td>4.6482</td>\n",
       "      <td>0.0251</td>\n",
       "      <td>2.9270</td>\n",
       "    </tr>\n",
       "    <tr>\n",
       "      <th>2014-11-10</th>\n",
       "      <td>2.5211</td>\n",
       "      <td>2.5700</td>\n",
       "      <td>3.0248</td>\n",
       "      <td>3.6380</td>\n",
       "      <td>4.6411</td>\n",
       "      <td>0.0250</td>\n",
       "      <td>2.9270</td>\n",
       "    </tr>\n",
       "    <tr>\n",
       "      <th>2014-11-11</th>\n",
       "      <td>2.5423</td>\n",
       "      <td>2.5787</td>\n",
       "      <td>3.0368</td>\n",
       "      <td>3.6540</td>\n",
       "      <td>4.6641</td>\n",
       "      <td>0.0248</td>\n",
       "      <td>2.9280</td>\n",
       "    </tr>\n",
       "    <tr>\n",
       "      <th>2014-11-12</th>\n",
       "      <td>2.5544</td>\n",
       "      <td>2.5894</td>\n",
       "      <td>3.0364</td>\n",
       "      <td>3.6500</td>\n",
       "      <td>4.6296</td>\n",
       "      <td>0.0249</td>\n",
       "      <td>2.9350</td>\n",
       "    </tr>\n",
       "    <tr>\n",
       "      <th>2014-11-13</th>\n",
       "      <td>2.5530</td>\n",
       "      <td>2.5773</td>\n",
       "      <td>3.0466</td>\n",
       "      <td>3.6630</td>\n",
       "      <td>4.6121</td>\n",
       "      <td>0.0249</td>\n",
       "      <td>2.9345</td>\n",
       "    </tr>\n",
       "    <tr>\n",
       "      <th>...</th>\n",
       "      <td>...</td>\n",
       "      <td>...</td>\n",
       "      <td>...</td>\n",
       "      <td>...</td>\n",
       "      <td>...</td>\n",
       "      <td>...</td>\n",
       "      <td>...</td>\n",
       "    </tr>\n",
       "    <tr>\n",
       "      <th>2024-11-11</th>\n",
       "      <td>2.4783</td>\n",
       "      <td>2.7076</td>\n",
       "      <td>4.2864</td>\n",
       "      <td>4.0238</td>\n",
       "      <td>4.8598</td>\n",
       "      <td>0.0241</td>\n",
       "      <td>3.7747</td>\n",
       "    </tr>\n",
       "    <tr>\n",
       "      <th>2024-11-12</th>\n",
       "      <td>2.4716</td>\n",
       "      <td>2.7125</td>\n",
       "      <td>4.2952</td>\n",
       "      <td>4.0240</td>\n",
       "      <td>4.8289</td>\n",
       "      <td>0.0240</td>\n",
       "      <td>3.7860</td>\n",
       "    </tr>\n",
       "    <tr>\n",
       "      <th>2024-11-13</th>\n",
       "      <td>2.4614</td>\n",
       "      <td>2.7115</td>\n",
       "      <td>4.2898</td>\n",
       "      <td>4.0159</td>\n",
       "      <td>4.8321</td>\n",
       "      <td>0.0239</td>\n",
       "      <td>3.8005</td>\n",
       "    </tr>\n",
       "    <tr>\n",
       "      <th>2024-11-14</th>\n",
       "      <td>2.4550</td>\n",
       "      <td>2.7049</td>\n",
       "      <td>4.2793</td>\n",
       "      <td>4.0104</td>\n",
       "      <td>4.8241</td>\n",
       "      <td>0.0239</td>\n",
       "      <td>3.8022</td>\n",
       "    </tr>\n",
       "    <tr>\n",
       "      <th>2024-11-15</th>\n",
       "      <td>2.4545</td>\n",
       "      <td>2.6959</td>\n",
       "      <td>4.2833</td>\n",
       "      <td>4.0087</td>\n",
       "      <td>4.8019</td>\n",
       "      <td>0.0241</td>\n",
       "      <td>3.8042</td>\n",
       "    </tr>\n",
       "  </tbody>\n",
       "</table>\n",
       "<p>2610 rows × 7 columns</p>\n",
       "</div>"
      ],
      "text/plain": [
       "            AUDPEN  CADPEN  CHFPEN  EURPEN  GBPPEN  JPYPEN  USDPEN\n",
       "timestamp                                                         \n",
       "2014-11-07  2.5240  2.5807  3.0292  3.6470  4.6482  0.0251  2.9270\n",
       "2014-11-10  2.5211  2.5700  3.0248  3.6380  4.6411  0.0250  2.9270\n",
       "2014-11-11  2.5423  2.5787  3.0368  3.6540  4.6641  0.0248  2.9280\n",
       "2014-11-12  2.5544  2.5894  3.0364  3.6500  4.6296  0.0249  2.9350\n",
       "2014-11-13  2.5530  2.5773  3.0466  3.6630  4.6121  0.0249  2.9345\n",
       "...            ...     ...     ...     ...     ...     ...     ...\n",
       "2024-11-11  2.4783  2.7076  4.2864  4.0238  4.8598  0.0241  3.7747\n",
       "2024-11-12  2.4716  2.7125  4.2952  4.0240  4.8289  0.0240  3.7860\n",
       "2024-11-13  2.4614  2.7115  4.2898  4.0159  4.8321  0.0239  3.8005\n",
       "2024-11-14  2.4550  2.7049  4.2793  4.0104  4.8241  0.0239  3.8022\n",
       "2024-11-15  2.4545  2.6959  4.2833  4.0087  4.8019  0.0241  3.8042\n",
       "\n",
       "[2610 rows x 7 columns]"
      ]
     },
     "metadata": {},
     "output_type": "display_data"
    },
    {
     "data": {
      "text/html": [
       "<div>\n",
       "<style scoped>\n",
       "    .dataframe tbody tr th:only-of-type {\n",
       "        vertical-align: middle;\n",
       "    }\n",
       "\n",
       "    .dataframe tbody tr th {\n",
       "        vertical-align: top;\n",
       "    }\n",
       "\n",
       "    .dataframe thead th {\n",
       "        text-align: right;\n",
       "    }\n",
       "</style>\n",
       "<table border=\"1\" class=\"dataframe\">\n",
       "  <thead>\n",
       "    <tr style=\"text-align: right;\">\n",
       "      <th></th>\n",
       "      <th>dayofweek</th>\n",
       "    </tr>\n",
       "    <tr>\n",
       "      <th>timestamp</th>\n",
       "      <th></th>\n",
       "    </tr>\n",
       "  </thead>\n",
       "  <tbody>\n",
       "    <tr>\n",
       "      <th>2014-11-07</th>\n",
       "      <td>4</td>\n",
       "    </tr>\n",
       "    <tr>\n",
       "      <th>2014-11-10</th>\n",
       "      <td>0</td>\n",
       "    </tr>\n",
       "    <tr>\n",
       "      <th>2014-11-11</th>\n",
       "      <td>1</td>\n",
       "    </tr>\n",
       "    <tr>\n",
       "      <th>2014-11-12</th>\n",
       "      <td>2</td>\n",
       "    </tr>\n",
       "    <tr>\n",
       "      <th>2014-11-13</th>\n",
       "      <td>3</td>\n",
       "    </tr>\n",
       "    <tr>\n",
       "      <th>...</th>\n",
       "      <td>...</td>\n",
       "    </tr>\n",
       "    <tr>\n",
       "      <th>2024-11-11</th>\n",
       "      <td>0</td>\n",
       "    </tr>\n",
       "    <tr>\n",
       "      <th>2024-11-12</th>\n",
       "      <td>1</td>\n",
       "    </tr>\n",
       "    <tr>\n",
       "      <th>2024-11-13</th>\n",
       "      <td>2</td>\n",
       "    </tr>\n",
       "    <tr>\n",
       "      <th>2024-11-14</th>\n",
       "      <td>3</td>\n",
       "    </tr>\n",
       "    <tr>\n",
       "      <th>2024-11-15</th>\n",
       "      <td>4</td>\n",
       "    </tr>\n",
       "  </tbody>\n",
       "</table>\n",
       "<p>2610 rows × 1 columns</p>\n",
       "</div>"
      ],
      "text/plain": [
       "            dayofweek\n",
       "timestamp            \n",
       "2014-11-07          4\n",
       "2014-11-10          0\n",
       "2014-11-11          1\n",
       "2014-11-12          2\n",
       "2014-11-13          3\n",
       "...               ...\n",
       "2024-11-11          0\n",
       "2024-11-12          1\n",
       "2024-11-13          2\n",
       "2024-11-14          3\n",
       "2024-11-15          4\n",
       "\n",
       "[2610 rows x 1 columns]"
      ]
     },
     "metadata": {},
     "output_type": "display_data"
    }
   ],
   "source": [
    "# Formatting database as in the example.\n",
    "df.columns = [c.replace('close_', '') for c in df.columns]\n",
    "df = df.apply(pd.to_numeric, errors='coerce')\n",
    "\n",
    "# Creating seasonal data.\n",
    "known_input_df = pd.DataFrame(index=df.index, data=np.array([df.reset_index()['timestamp'].apply(lambda x: (x.hour)).values, df.reset_index()['timestamp'].apply(lambda x: (x.dayofweek)).values]).T, columns = ['hour', 'dayofweek'])\n",
    "\n",
    "# Dropping hours as the database is daily for now.\n",
    "known_input_df = known_input_df.drop(columns=['hour'])\n",
    "\n",
    "display(df)\n",
    "display(known_input_df)"
   ]
  },
  {
   "cell_type": "code",
   "execution_count": 13,
   "id": "eddffd7b-3602-475e-bb6f-270d6081f266",
   "metadata": {},
   "outputs": [
    {
     "data": {
      "text/html": [
       "<div>\n",
       "<style scoped>\n",
       "    .dataframe tbody tr th:only-of-type {\n",
       "        vertical-align: middle;\n",
       "    }\n",
       "\n",
       "    .dataframe tbody tr th {\n",
       "        vertical-align: top;\n",
       "    }\n",
       "\n",
       "    .dataframe thead th {\n",
       "        text-align: right;\n",
       "    }\n",
       "</style>\n",
       "<table border=\"1\" class=\"dataframe\">\n",
       "  <thead>\n",
       "    <tr style=\"text-align: right;\">\n",
       "      <th></th>\n",
       "      <th>dayofweek</th>\n",
       "    </tr>\n",
       "  </thead>\n",
       "  <tbody>\n",
       "    <tr>\n",
       "      <th>0</th>\n",
       "      <td>4</td>\n",
       "    </tr>\n",
       "    <tr>\n",
       "      <th>1</th>\n",
       "      <td>3</td>\n",
       "    </tr>\n",
       "    <tr>\n",
       "      <th>2</th>\n",
       "      <td>2</td>\n",
       "    </tr>\n",
       "    <tr>\n",
       "      <th>3</th>\n",
       "      <td>1</td>\n",
       "    </tr>\n",
       "    <tr>\n",
       "      <th>4</th>\n",
       "      <td>0</td>\n",
       "    </tr>\n",
       "    <tr>\n",
       "      <th>...</th>\n",
       "      <td>...</td>\n",
       "    </tr>\n",
       "    <tr>\n",
       "      <th>18261</th>\n",
       "      <td>3</td>\n",
       "    </tr>\n",
       "    <tr>\n",
       "      <th>18262</th>\n",
       "      <td>2</td>\n",
       "    </tr>\n",
       "    <tr>\n",
       "      <th>18263</th>\n",
       "      <td>1</td>\n",
       "    </tr>\n",
       "    <tr>\n",
       "      <th>18264</th>\n",
       "      <td>0</td>\n",
       "    </tr>\n",
       "    <tr>\n",
       "      <th>18265</th>\n",
       "      <td>4</td>\n",
       "    </tr>\n",
       "  </tbody>\n",
       "</table>\n",
       "<p>18266 rows × 1 columns</p>\n",
       "</div>"
      ],
      "text/plain": [
       "       dayofweek\n",
       "0              4\n",
       "1              3\n",
       "2              2\n",
       "3              1\n",
       "4              0\n",
       "...          ...\n",
       "18261          3\n",
       "18262          2\n",
       "18263          1\n",
       "18264          0\n",
       "18265          4\n",
       "\n",
       "[18266 rows x 1 columns]"
      ]
     },
     "metadata": {},
     "output_type": "display_data"
    }
   ],
   "source": [
    "known_input_df = pd.DataFrame(index=df.index, data=np.array([df.reset_index()['timestamp'].apply(lambda x: (x.hour)).values, df.reset_index()['timestamp'].apply(lambda x: (x.dayofweek)).values]).T, columns = ['hour', 'dayofweek'])\n",
    "\n",
    "# Dropping hours for now.\n",
    "known_input_df = known_input_df.drop(columns=['hour'])\n",
    "\n",
    "display(known_input_df)"
   ]
  },
  {
   "cell_type": "code",
   "execution_count": 30,
   "id": "fdd9ee3a-691a-4f1e-a378-c98234c4ffff",
   "metadata": {},
   "outputs": [],
   "source": [
    "N_MAX_EPOCHS = 100\n",
    "BATCH_SIZE = 128\n",
    "early_stopping_callback = lambda : tf.keras.callbacks.EarlyStopping(\n",
    "    monitor=\"val_loss\",\n",
    "    min_delta=0.00001,\n",
    "    patience=6,\n",
    "    mode=\"min\",\n",
    "    restore_best_weights=True,\n",
    "    start_from_epoch=6,\n",
    ")\n",
    "lr_callback = lambda : tf.keras.callbacks.ReduceLROnPlateau(\n",
    "    monitor=\"val_loss\",\n",
    "    factor=0.25,\n",
    "    patience=3,\n",
    "    mode=\"min\",\n",
    "    min_delta=0.00001,\n",
    "    min_lr=0.000025,\n",
    "    verbose=0,\n",
    ")\n",
    "callbacks = lambda : [early_stopping_callback(), lr_callback(), tf.keras.callbacks.TerminateOnNaN()]"
   ]
  },
  {
   "cell_type": "code",
   "execution_count": 31,
   "id": "09a110ea-c232-471a-8612-be56e956c869",
   "metadata": {},
   "outputs": [],
   "source": [
    "def generate_data(df, sequence_length, n_ahead):\n",
    "    #Case without known inputs\n",
    "    scaler_df = df.copy().shift(n_ahead).rolling(24 * 14).median()\n",
    "    tmp_df = df.copy() / scaler_df\n",
    "    tmp_df = tmp_df.iloc[24 * 14 + n_ahead:].fillna(0.)\n",
    "    scaler_df = scaler_df.iloc[24 * 14 + n_ahead:].fillna(0.)\n",
    "    def prepare_sequences(df, scaler_df, n_history, n_future):\n",
    "        X, y, y_scaler = [], [], []\n",
    "        num_features = df.shape[1]\n",
    "        \n",
    "        # Iterate through the DataFrame to create sequences\n",
    "        for i in range(n_history, len(df) - n_future + 1):\n",
    "            # Extract the sequence of past observations\n",
    "            X.append(df.iloc[i - n_history:i].values)\n",
    "            # Extract the future values of the first column\n",
    "            y.append(df.iloc[i:i + n_future,0:1].values)\n",
    "            y_scaler.append(scaler_df.iloc[i:i + n_future,0:1].values)\n",
    "        \n",
    "        X, y, y_scaler = np.array(X), np.array(y), np.array(y_scaler)\n",
    "        return X, y, y_scaler\n",
    "    \n",
    "    # Prepare sequences\n",
    "    X, y, y_scaler = prepare_sequences(tmp_df, scaler_df, sequence_length, n_ahead)\n",
    "    \n",
    "    # Split the dataset into training and testing sets\n",
    "    train_test_separation = int(len(X) * 0.8)\n",
    "    X_train_unscaled, X_test_unscaled = X[:train_test_separation], X[train_test_separation:]\n",
    "    y_train_unscaled, y_test_unscaled = y[:train_test_separation], y[train_test_separation:]\n",
    "    y_scaler_train, y_scaler_test = y_scaler[:train_test_separation], y_scaler[train_test_separation:]\n",
    "    \n",
    "    # Generate the data\n",
    "    X_scaler = MinMaxScaler(feature_axis=2)\n",
    "    X_train = X_scaler.fit_transform(X_train_unscaled)\n",
    "    X_test = X_scaler.transform(X_test_unscaled)\n",
    "    \n",
    "    y_scaler = MinMaxScaler(feature_axis=2)\n",
    "    y_train = y_scaler.fit_transform(y_train_unscaled)\n",
    "    y_test = y_scaler.transform(y_test_unscaled)\n",
    "    \n",
    "    y_train = y_train.reshape(y_train.shape[0], -1) \n",
    "    y_test = y_test.reshape(y_test.shape[0], -1)\n",
    "    return X_scaler, X_train, X_test, X_train_unscaled, X_test_unscaled, y_scaler, y_train, y_test, y_train_unscaled, y_test_unscaled, y_scaler_train, y_scaler_test\n",
    "\n",
    "def generate_data_w_known_inputs(df, known_input_df, sequence_length, n_ahead):\n",
    "    #Case without known inputs - fill with 0 the unknown features future values in X\n",
    "    scaler_df = df.copy().shift(n_ahead).rolling(24 * 14).median()\n",
    "    tmp_df = df.copy() / scaler_df\n",
    "    tmp_df = tmp_df.iloc[24 * 14 + n_ahead:].fillna(0.)\n",
    "    scaler_df = scaler_df.iloc[24 * 14 + n_ahead:].fillna(0.)\n",
    "    tmp_known_input_df = known_input_df.iloc[24 * 14 + n_ahead:].copy()\n",
    "    def prepare_sequences(df, known_input_df, scaler_df, n_history, n_future):\n",
    "        Xu, Xk, y, y_scaler = [], [], [], []\n",
    "        num_features = df.shape[1]\n",
    "        \n",
    "        # Iterate through the DataFrame to create sequences\n",
    "        for i in range(n_history, len(df) - n_future + 1):\n",
    "            # Extract the sequence of past observations\n",
    "            Xu.append(np.concatenate((df.iloc[i - n_history:i].values, np.zeros((n_future, df.shape[1]))), axis=0))\n",
    "            Xk.append(known_input_df.iloc[i - n_history:i+n_future].values)\n",
    "            # Extract the future values of the first column\n",
    "            y.append(df.iloc[i:i + n_future,0:1].values)\n",
    "            y_scaler.append(scaler_df.iloc[i:i + n_future,0:1].values)\n",
    "        \n",
    "        Xu, Xk, y, y_scaler = np.array(Xu), np.array(Xk), np.array(y), np.array(y_scaler)\n",
    "        return Xu, Xk, y, y_scaler\n",
    "    \n",
    "    # Prepare sequences\n",
    "    Xu, Xk, y, y_scaler = prepare_sequences(tmp_df, tmp_known_input_df, scaler_df, sequence_length, n_ahead)\n",
    "\n",
    "    X = np.concatenate((Xu, Xk), axis=-1)\n",
    "    \n",
    "    # Split the dataset into training and testing sets\n",
    "    train_test_separation = int(len(X) * 0.8)\n",
    "    X_train_unscaled, X_test_unscaled = X[:train_test_separation], X[train_test_separation:]\n",
    "    y_train_unscaled, y_test_unscaled = y[:train_test_separation], y[train_test_separation:]\n",
    "    y_scaler_train, y_scaler_test = y_scaler[:train_test_separation], y_scaler[train_test_separation:]\n",
    "    \n",
    "    # Generate the data\n",
    "    X_scaler = MinMaxScaler(feature_axis=2)\n",
    "    X_train = X_scaler.fit_transform(X_train_unscaled)\n",
    "    X_test = X_scaler.transform(X_test_unscaled)\n",
    "    \n",
    "    y_scaler = MinMaxScaler(feature_axis=2)\n",
    "    y_train = y_scaler.fit_transform(y_train_unscaled)\n",
    "    y_test = y_scaler.transform(y_test_unscaled)\n",
    "    \n",
    "    y_train = y_train.reshape(y_train.shape[0], -1) \n",
    "    y_test = y_test.reshape(y_test.shape[0], -1)\n",
    "    return X_scaler, X_train, X_test, X_train_unscaled, X_test_unscaled, y_scaler, y_train, y_test, y_train_unscaled, y_test_unscaled, y_scaler_train, y_scaler_test"
   ]
  },
  {
   "cell_type": "code",
   "execution_count": 36,
   "id": "2dfed907-6b9a-484d-867a-8f5a36322222",
   "metadata": {},
   "outputs": [
    {
     "data": {
      "text/plain": [
       "((1652, 180, 8), (413, 180, 8), (1652, 30), (413, 30))"
      ]
     },
     "execution_count": 36,
     "metadata": {},
     "output_type": "execute_result"
    }
   ],
   "source": [
    "num_hidden = 100\n",
    "num_heads = 4\n",
    "num_embedding = 1\n",
    "n_ahead = 30\n",
    "sequence_length = 5 * n_ahead\n",
    "\n",
    "X_scaler, X_train, X_test, X_train_unscaled, X_test_unscaled, y_scaler, y_train, y_test, y_train_unscaled, y_test_unscaled, y_scaler_train, y_scaler_test = generate_data_w_known_inputs(df, known_input_df, sequence_length, n_ahead)\n",
    "\n",
    "X_train.shape, X_test.shape, y_train.shape, y_test.shape"
   ]
  },
  {
   "cell_type": "code",
   "execution_count": 37,
   "id": "70fdb19c-21f9-4f00-93a2-9ad9d3213926",
   "metadata": {},
   "outputs": [
    {
     "data": {
      "text/html": [
       "<pre style=\"white-space:pre;overflow-x:auto;line-height:normal;font-family:Menlo,'DejaVu Sans Mono',consolas,'Courier New',monospace\"><span style=\"font-weight: bold\">Model: \"functional\"</span>\n",
       "</pre>\n"
      ],
      "text/plain": [
       "\u001b[1mModel: \"functional\"\u001b[0m\n"
      ]
     },
     "metadata": {},
     "output_type": "display_data"
    },
    {
     "data": {
      "text/html": [
       "<pre style=\"white-space:pre;overflow-x:auto;line-height:normal;font-family:Menlo,'DejaVu Sans Mono',consolas,'Courier New',monospace\">┏━━━━━━━━━━━━━━━━━━━━━┳━━━━━━━━━━━━━━━━━━━┳━━━━━━━━━━━━┳━━━━━━━━━━━━━━━━━━━┓\n",
       "┃<span style=\"font-weight: bold\"> Layer (type)        </span>┃<span style=\"font-weight: bold\"> Output Shape      </span>┃<span style=\"font-weight: bold\">    Param # </span>┃<span style=\"font-weight: bold\"> Connected to      </span>┃\n",
       "┡━━━━━━━━━━━━━━━━━━━━━╇━━━━━━━━━━━━━━━━━━━╇━━━━━━━━━━━━╇━━━━━━━━━━━━━━━━━━━┩\n",
       "│ input_layer         │ (<span style=\"color: #00d7ff; text-decoration-color: #00d7ff\">None</span>, <span style=\"color: #00af00; text-decoration-color: #00af00\">180</span>, <span style=\"color: #00af00; text-decoration-color: #00af00\">8</span>)    │          <span style=\"color: #00af00; text-decoration-color: #00af00\">0</span> │ -                 │\n",
       "│ (<span style=\"color: #0087ff; text-decoration-color: #0087ff\">InputLayer</span>)        │                   │            │                   │\n",
       "├─────────────────────┼───────────────────┼────────────┼───────────────────┤\n",
       "│ embedding_layer     │ (<span style=\"color: #00d7ff; text-decoration-color: #00d7ff\">None</span>, <span style=\"color: #00af00; text-decoration-color: #00af00\">180</span>, <span style=\"color: #00af00; text-decoration-color: #00af00\">1</span>, <span style=\"color: #00af00; text-decoration-color: #00af00\">8</span>) │          <span style=\"color: #00af00; text-decoration-color: #00af00\">0</span> │ input_layer[<span style=\"color: #00af00; text-decoration-color: #00af00\">0</span>][<span style=\"color: #00af00; text-decoration-color: #00af00\">0</span>] │\n",
       "│ (<span style=\"color: #0087ff; text-decoration-color: #0087ff\">EmbeddingLayer</span>)    │                   │            │                   │\n",
       "├─────────────────────┼───────────────────┼────────────┼───────────────────┤\n",
       "│ past_observed_and_… │ (<span style=\"color: #00d7ff; text-decoration-color: #00d7ff\">None</span>, <span style=\"color: #00af00; text-decoration-color: #00af00\">150</span>, <span style=\"color: #00af00; text-decoration-color: #00af00\">1</span>, <span style=\"color: #00af00; text-decoration-color: #00af00\">8</span>) │          <span style=\"color: #00af00; text-decoration-color: #00af00\">0</span> │ embedding_layer[<span style=\"color: #00af00; text-decoration-color: #00af00\">…</span> │\n",
       "│ (<span style=\"color: #0087ff; text-decoration-color: #0087ff\">Lambda</span>)            │                   │            │                   │\n",
       "├─────────────────────┼───────────────────┼────────────┼───────────────────┤\n",
       "│ vsn_past_features   │ (<span style=\"color: #00d7ff; text-decoration-color: #00d7ff\">None</span>, <span style=\"color: #00af00; text-decoration-color: #00af00\">150</span>, <span style=\"color: #00af00; text-decoration-color: #00af00\">100</span>)  │    <span style=\"color: #00af00; text-decoration-color: #00af00\">259,904</span> │ past_observed_an… │\n",
       "│ (<span style=\"color: #0087ff; text-decoration-color: #0087ff\">VariableSelection…</span> │                   │            │                   │\n",
       "├─────────────────────┼───────────────────┼────────────┼───────────────────┤\n",
       "│ future_known        │ (<span style=\"color: #00d7ff; text-decoration-color: #00d7ff\">None</span>, <span style=\"color: #00af00; text-decoration-color: #00af00\">30</span>, <span style=\"color: #00af00; text-decoration-color: #00af00\">1</span>, <span style=\"color: #00af00; text-decoration-color: #00af00\">8</span>)  │          <span style=\"color: #00af00; text-decoration-color: #00af00\">0</span> │ embedding_layer[<span style=\"color: #00af00; text-decoration-color: #00af00\">…</span> │\n",
       "│ (<span style=\"color: #0087ff; text-decoration-color: #0087ff\">Lambda</span>)            │                   │            │                   │\n",
       "├─────────────────────┼───────────────────┼────────────┼───────────────────┤\n",
       "│ encoder             │ [(<span style=\"color: #00d7ff; text-decoration-color: #00d7ff\">None</span>, <span style=\"color: #00af00; text-decoration-color: #00af00\">150</span>,      │     <span style=\"color: #00af00; text-decoration-color: #00af00\">71,612</span> │ vsn_past_feature… │\n",
       "│ (<span style=\"color: #0087ff; text-decoration-color: #0087ff\">RecurrentLayer</span>)    │ <span style=\"color: #00af00; text-decoration-color: #00af00\">100</span>), (<span style=\"color: #00d7ff; text-decoration-color: #00d7ff\">None</span>,      │            │                   │\n",
       "│                     │ <span style=\"color: #00af00; text-decoration-color: #00af00\">100</span>), (<span style=\"color: #00d7ff; text-decoration-color: #00d7ff\">None</span>,      │            │                   │\n",
       "│                     │ <span style=\"color: #00af00; text-decoration-color: #00af00\">100</span>), (<span style=\"color: #00d7ff; text-decoration-color: #00d7ff\">None</span>,      │            │                   │\n",
       "│                     │ <span style=\"color: #00af00; text-decoration-color: #00af00\">100</span>)]             │            │                   │\n",
       "├─────────────────────┼───────────────────┼────────────┼───────────────────┤\n",
       "│ vsn_future_features │ (<span style=\"color: #00d7ff; text-decoration-color: #00d7ff\">None</span>, <span style=\"color: #00af00; text-decoration-color: #00af00\">30</span>, <span style=\"color: #00af00; text-decoration-color: #00af00\">100</span>)   │    <span style=\"color: #00af00; text-decoration-color: #00af00\">259,904</span> │ future_known[<span style=\"color: #00af00; text-decoration-color: #00af00\">0</span>][<span style=\"color: #00af00; text-decoration-color: #00af00\">…</span> │\n",
       "│ (<span style=\"color: #0087ff; text-decoration-color: #0087ff\">VariableSelection…</span> │                   │            │                   │\n",
       "├─────────────────────┼───────────────────┼────────────┼───────────────────┤\n",
       "│ decoder             │ (<span style=\"color: #00d7ff; text-decoration-color: #00d7ff\">None</span>, <span style=\"color: #00af00; text-decoration-color: #00af00\">30</span>, <span style=\"color: #00af00; text-decoration-color: #00af00\">100</span>)   │     <span style=\"color: #00af00; text-decoration-color: #00af00\">71,612</span> │ vsn_future_featu… │\n",
       "│ (<span style=\"color: #0087ff; text-decoration-color: #0087ff\">RecurrentLayer</span>)    │                   │            │ encoder[<span style=\"color: #00af00; text-decoration-color: #00af00\">0</span>][<span style=\"color: #00af00; text-decoration-color: #00af00\">1</span>],    │\n",
       "│                     │                   │            │ encoder[<span style=\"color: #00af00; text-decoration-color: #00af00\">0</span>][<span style=\"color: #00af00; text-decoration-color: #00af00\">2</span>],    │\n",
       "│                     │                   │            │ encoder[<span style=\"color: #00af00; text-decoration-color: #00af00\">0</span>][<span style=\"color: #00af00; text-decoration-color: #00af00\">3</span>]     │\n",
       "├─────────────────────┼───────────────────┼────────────┼───────────────────┤\n",
       "│ concatenate         │ (<span style=\"color: #00d7ff; text-decoration-color: #00d7ff\">None</span>, <span style=\"color: #00af00; text-decoration-color: #00af00\">180</span>, <span style=\"color: #00af00; text-decoration-color: #00af00\">100</span>)  │          <span style=\"color: #00af00; text-decoration-color: #00af00\">0</span> │ encoder[<span style=\"color: #00af00; text-decoration-color: #00af00\">0</span>][<span style=\"color: #00af00; text-decoration-color: #00af00\">0</span>],    │\n",
       "│ (<span style=\"color: #0087ff; text-decoration-color: #0087ff\">Concatenate</span>)       │                   │            │ decoder[<span style=\"color: #00af00; text-decoration-color: #00af00\">0</span>][<span style=\"color: #00af00; text-decoration-color: #00af00\">0</span>]     │\n",
       "├─────────────────────┼───────────────────┼────────────┼───────────────────┤\n",
       "│ gate_18 (<span style=\"color: #0087ff; text-decoration-color: #0087ff\">Gate</span>)      │ (<span style=\"color: #00d7ff; text-decoration-color: #00d7ff\">None</span>, <span style=\"color: #00af00; text-decoration-color: #00af00\">180</span>, <span style=\"color: #00af00; text-decoration-color: #00af00\">100</span>)  │          <span style=\"color: #00af00; text-decoration-color: #00af00\">0</span> │ concatenate[<span style=\"color: #00af00; text-decoration-color: #00af00\">0</span>][<span style=\"color: #00af00; text-decoration-color: #00af00\">0</span>] │\n",
       "├─────────────────────┼───────────────────┼────────────┼───────────────────┤\n",
       "│ concatenate_1       │ (<span style=\"color: #00d7ff; text-decoration-color: #00d7ff\">None</span>, <span style=\"color: #00af00; text-decoration-color: #00af00\">180</span>, <span style=\"color: #00af00; text-decoration-color: #00af00\">100</span>)  │          <span style=\"color: #00af00; text-decoration-color: #00af00\">0</span> │ vsn_past_feature… │\n",
       "│ (<span style=\"color: #0087ff; text-decoration-color: #0087ff\">Concatenate</span>)       │                   │            │ vsn_future_featu… │\n",
       "├─────────────────────┼───────────────────┼────────────┼───────────────────┤\n",
       "│ add_and_norm_18     │ (<span style=\"color: #00d7ff; text-decoration-color: #00d7ff\">None</span>, <span style=\"color: #00af00; text-decoration-color: #00af00\">180</span>, <span style=\"color: #00af00; text-decoration-color: #00af00\">100</span>)  │        <span style=\"color: #00af00; text-decoration-color: #00af00\">200</span> │ gate_18[<span style=\"color: #00af00; text-decoration-color: #00af00\">0</span>][<span style=\"color: #00af00; text-decoration-color: #00af00\">0</span>],    │\n",
       "│ (<span style=\"color: #0087ff; text-decoration-color: #0087ff\">AddAndNorm</span>)        │                   │            │ concatenate_1[<span style=\"color: #00af00; text-decoration-color: #00af00\">0</span>]… │\n",
       "├─────────────────────┼───────────────────┼────────────┼───────────────────┤\n",
       "│ grn_18 (<span style=\"color: #0087ff; text-decoration-color: #0087ff\">GRN</span>)        │ (<span style=\"color: #00d7ff; text-decoration-color: #00d7ff\">None</span>, <span style=\"color: #00af00; text-decoration-color: #00af00\">180</span>, <span style=\"color: #00af00; text-decoration-color: #00af00\">100</span>)  │          <span style=\"color: #00af00; text-decoration-color: #00af00\">0</span> │ add_and_norm_18[<span style=\"color: #00af00; text-decoration-color: #00af00\">…</span> │\n",
       "├─────────────────────┼───────────────────┼────────────┼───────────────────┤\n",
       "│ multi_head_attenti… │ (<span style=\"color: #00d7ff; text-decoration-color: #00d7ff\">None</span>, <span style=\"color: #00af00; text-decoration-color: #00af00\">180</span>, <span style=\"color: #00af00; text-decoration-color: #00af00\">100</span>)  │    <span style=\"color: #00af00; text-decoration-color: #00af00\">161,300</span> │ grn_18[<span style=\"color: #00af00; text-decoration-color: #00af00\">0</span>][<span style=\"color: #00af00; text-decoration-color: #00af00\">0</span>],     │\n",
       "│ (<span style=\"color: #0087ff; text-decoration-color: #0087ff\">MultiHeadAttentio…</span> │                   │            │ grn_18[<span style=\"color: #00af00; text-decoration-color: #00af00\">0</span>][<span style=\"color: #00af00; text-decoration-color: #00af00\">0</span>],     │\n",
       "│                     │                   │            │ grn_18[<span style=\"color: #00af00; text-decoration-color: #00af00\">0</span>][<span style=\"color: #00af00; text-decoration-color: #00af00\">0</span>]      │\n",
       "├─────────────────────┼───────────────────┼────────────┼───────────────────┤\n",
       "│ flatten (<span style=\"color: #0087ff; text-decoration-color: #0087ff\">Flatten</span>)   │ (<span style=\"color: #00d7ff; text-decoration-color: #00d7ff\">None</span>, <span style=\"color: #00af00; text-decoration-color: #00af00\">18000</span>)     │          <span style=\"color: #00af00; text-decoration-color: #00af00\">0</span> │ multi_head_atten… │\n",
       "├─────────────────────┼───────────────────┼────────────┼───────────────────┤\n",
       "│ dense_103 (<span style=\"color: #0087ff; text-decoration-color: #0087ff\">Dense</span>)   │ (<span style=\"color: #00d7ff; text-decoration-color: #00d7ff\">None</span>, <span style=\"color: #00af00; text-decoration-color: #00af00\">30</span>)        │    <span style=\"color: #00af00; text-decoration-color: #00af00\">540,030</span> │ flatten[<span style=\"color: #00af00; text-decoration-color: #00af00\">0</span>][<span style=\"color: #00af00; text-decoration-color: #00af00\">0</span>]     │\n",
       "└─────────────────────┴───────────────────┴────────────┴───────────────────┘\n",
       "</pre>\n"
      ],
      "text/plain": [
       "┏━━━━━━━━━━━━━━━━━━━━━┳━━━━━━━━━━━━━━━━━━━┳━━━━━━━━━━━━┳━━━━━━━━━━━━━━━━━━━┓\n",
       "┃\u001b[1m \u001b[0m\u001b[1mLayer (type)       \u001b[0m\u001b[1m \u001b[0m┃\u001b[1m \u001b[0m\u001b[1mOutput Shape     \u001b[0m\u001b[1m \u001b[0m┃\u001b[1m \u001b[0m\u001b[1m   Param #\u001b[0m\u001b[1m \u001b[0m┃\u001b[1m \u001b[0m\u001b[1mConnected to     \u001b[0m\u001b[1m \u001b[0m┃\n",
       "┡━━━━━━━━━━━━━━━━━━━━━╇━━━━━━━━━━━━━━━━━━━╇━━━━━━━━━━━━╇━━━━━━━━━━━━━━━━━━━┩\n",
       "│ input_layer         │ (\u001b[38;5;45mNone\u001b[0m, \u001b[38;5;34m180\u001b[0m, \u001b[38;5;34m8\u001b[0m)    │          \u001b[38;5;34m0\u001b[0m │ -                 │\n",
       "│ (\u001b[38;5;33mInputLayer\u001b[0m)        │                   │            │                   │\n",
       "├─────────────────────┼───────────────────┼────────────┼───────────────────┤\n",
       "│ embedding_layer     │ (\u001b[38;5;45mNone\u001b[0m, \u001b[38;5;34m180\u001b[0m, \u001b[38;5;34m1\u001b[0m, \u001b[38;5;34m8\u001b[0m) │          \u001b[38;5;34m0\u001b[0m │ input_layer[\u001b[38;5;34m0\u001b[0m][\u001b[38;5;34m0\u001b[0m] │\n",
       "│ (\u001b[38;5;33mEmbeddingLayer\u001b[0m)    │                   │            │                   │\n",
       "├─────────────────────┼───────────────────┼────────────┼───────────────────┤\n",
       "│ past_observed_and_… │ (\u001b[38;5;45mNone\u001b[0m, \u001b[38;5;34m150\u001b[0m, \u001b[38;5;34m1\u001b[0m, \u001b[38;5;34m8\u001b[0m) │          \u001b[38;5;34m0\u001b[0m │ embedding_layer[\u001b[38;5;34m…\u001b[0m │\n",
       "│ (\u001b[38;5;33mLambda\u001b[0m)            │                   │            │                   │\n",
       "├─────────────────────┼───────────────────┼────────────┼───────────────────┤\n",
       "│ vsn_past_features   │ (\u001b[38;5;45mNone\u001b[0m, \u001b[38;5;34m150\u001b[0m, \u001b[38;5;34m100\u001b[0m)  │    \u001b[38;5;34m259,904\u001b[0m │ past_observed_an… │\n",
       "│ (\u001b[38;5;33mVariableSelection…\u001b[0m │                   │            │                   │\n",
       "├─────────────────────┼───────────────────┼────────────┼───────────────────┤\n",
       "│ future_known        │ (\u001b[38;5;45mNone\u001b[0m, \u001b[38;5;34m30\u001b[0m, \u001b[38;5;34m1\u001b[0m, \u001b[38;5;34m8\u001b[0m)  │          \u001b[38;5;34m0\u001b[0m │ embedding_layer[\u001b[38;5;34m…\u001b[0m │\n",
       "│ (\u001b[38;5;33mLambda\u001b[0m)            │                   │            │                   │\n",
       "├─────────────────────┼───────────────────┼────────────┼───────────────────┤\n",
       "│ encoder             │ [(\u001b[38;5;45mNone\u001b[0m, \u001b[38;5;34m150\u001b[0m,      │     \u001b[38;5;34m71,612\u001b[0m │ vsn_past_feature… │\n",
       "│ (\u001b[38;5;33mRecurrentLayer\u001b[0m)    │ \u001b[38;5;34m100\u001b[0m), (\u001b[38;5;45mNone\u001b[0m,      │            │                   │\n",
       "│                     │ \u001b[38;5;34m100\u001b[0m), (\u001b[38;5;45mNone\u001b[0m,      │            │                   │\n",
       "│                     │ \u001b[38;5;34m100\u001b[0m), (\u001b[38;5;45mNone\u001b[0m,      │            │                   │\n",
       "│                     │ \u001b[38;5;34m100\u001b[0m)]             │            │                   │\n",
       "├─────────────────────┼───────────────────┼────────────┼───────────────────┤\n",
       "│ vsn_future_features │ (\u001b[38;5;45mNone\u001b[0m, \u001b[38;5;34m30\u001b[0m, \u001b[38;5;34m100\u001b[0m)   │    \u001b[38;5;34m259,904\u001b[0m │ future_known[\u001b[38;5;34m0\u001b[0m][\u001b[38;5;34m…\u001b[0m │\n",
       "│ (\u001b[38;5;33mVariableSelection…\u001b[0m │                   │            │                   │\n",
       "├─────────────────────┼───────────────────┼────────────┼───────────────────┤\n",
       "│ decoder             │ (\u001b[38;5;45mNone\u001b[0m, \u001b[38;5;34m30\u001b[0m, \u001b[38;5;34m100\u001b[0m)   │     \u001b[38;5;34m71,612\u001b[0m │ vsn_future_featu… │\n",
       "│ (\u001b[38;5;33mRecurrentLayer\u001b[0m)    │                   │            │ encoder[\u001b[38;5;34m0\u001b[0m][\u001b[38;5;34m1\u001b[0m],    │\n",
       "│                     │                   │            │ encoder[\u001b[38;5;34m0\u001b[0m][\u001b[38;5;34m2\u001b[0m],    │\n",
       "│                     │                   │            │ encoder[\u001b[38;5;34m0\u001b[0m][\u001b[38;5;34m3\u001b[0m]     │\n",
       "├─────────────────────┼───────────────────┼────────────┼───────────────────┤\n",
       "│ concatenate         │ (\u001b[38;5;45mNone\u001b[0m, \u001b[38;5;34m180\u001b[0m, \u001b[38;5;34m100\u001b[0m)  │          \u001b[38;5;34m0\u001b[0m │ encoder[\u001b[38;5;34m0\u001b[0m][\u001b[38;5;34m0\u001b[0m],    │\n",
       "│ (\u001b[38;5;33mConcatenate\u001b[0m)       │                   │            │ decoder[\u001b[38;5;34m0\u001b[0m][\u001b[38;5;34m0\u001b[0m]     │\n",
       "├─────────────────────┼───────────────────┼────────────┼───────────────────┤\n",
       "│ gate_18 (\u001b[38;5;33mGate\u001b[0m)      │ (\u001b[38;5;45mNone\u001b[0m, \u001b[38;5;34m180\u001b[0m, \u001b[38;5;34m100\u001b[0m)  │          \u001b[38;5;34m0\u001b[0m │ concatenate[\u001b[38;5;34m0\u001b[0m][\u001b[38;5;34m0\u001b[0m] │\n",
       "├─────────────────────┼───────────────────┼────────────┼───────────────────┤\n",
       "│ concatenate_1       │ (\u001b[38;5;45mNone\u001b[0m, \u001b[38;5;34m180\u001b[0m, \u001b[38;5;34m100\u001b[0m)  │          \u001b[38;5;34m0\u001b[0m │ vsn_past_feature… │\n",
       "│ (\u001b[38;5;33mConcatenate\u001b[0m)       │                   │            │ vsn_future_featu… │\n",
       "├─────────────────────┼───────────────────┼────────────┼───────────────────┤\n",
       "│ add_and_norm_18     │ (\u001b[38;5;45mNone\u001b[0m, \u001b[38;5;34m180\u001b[0m, \u001b[38;5;34m100\u001b[0m)  │        \u001b[38;5;34m200\u001b[0m │ gate_18[\u001b[38;5;34m0\u001b[0m][\u001b[38;5;34m0\u001b[0m],    │\n",
       "│ (\u001b[38;5;33mAddAndNorm\u001b[0m)        │                   │            │ concatenate_1[\u001b[38;5;34m0\u001b[0m]… │\n",
       "├─────────────────────┼───────────────────┼────────────┼───────────────────┤\n",
       "│ grn_18 (\u001b[38;5;33mGRN\u001b[0m)        │ (\u001b[38;5;45mNone\u001b[0m, \u001b[38;5;34m180\u001b[0m, \u001b[38;5;34m100\u001b[0m)  │          \u001b[38;5;34m0\u001b[0m │ add_and_norm_18[\u001b[38;5;34m…\u001b[0m │\n",
       "├─────────────────────┼───────────────────┼────────────┼───────────────────┤\n",
       "│ multi_head_attenti… │ (\u001b[38;5;45mNone\u001b[0m, \u001b[38;5;34m180\u001b[0m, \u001b[38;5;34m100\u001b[0m)  │    \u001b[38;5;34m161,300\u001b[0m │ grn_18[\u001b[38;5;34m0\u001b[0m][\u001b[38;5;34m0\u001b[0m],     │\n",
       "│ (\u001b[38;5;33mMultiHeadAttentio…\u001b[0m │                   │            │ grn_18[\u001b[38;5;34m0\u001b[0m][\u001b[38;5;34m0\u001b[0m],     │\n",
       "│                     │                   │            │ grn_18[\u001b[38;5;34m0\u001b[0m][\u001b[38;5;34m0\u001b[0m]      │\n",
       "├─────────────────────┼───────────────────┼────────────┼───────────────────┤\n",
       "│ flatten (\u001b[38;5;33mFlatten\u001b[0m)   │ (\u001b[38;5;45mNone\u001b[0m, \u001b[38;5;34m18000\u001b[0m)     │          \u001b[38;5;34m0\u001b[0m │ multi_head_atten… │\n",
       "├─────────────────────┼───────────────────┼────────────┼───────────────────┤\n",
       "│ dense_103 (\u001b[38;5;33mDense\u001b[0m)   │ (\u001b[38;5;45mNone\u001b[0m, \u001b[38;5;34m30\u001b[0m)        │    \u001b[38;5;34m540,030\u001b[0m │ flatten[\u001b[38;5;34m0\u001b[0m][\u001b[38;5;34m0\u001b[0m]     │\n",
       "└─────────────────────┴───────────────────┴────────────┴───────────────────┘\n"
      ]
     },
     "metadata": {},
     "output_type": "display_data"
    },
    {
     "data": {
      "text/html": [
       "<pre style=\"white-space:pre;overflow-x:auto;line-height:normal;font-family:Menlo,'DejaVu Sans Mono',consolas,'Courier New',monospace\"><span style=\"font-weight: bold\"> Total params: </span><span style=\"color: #00af00; text-decoration-color: #00af00\">1,364,562</span> (5.21 MB)\n",
       "</pre>\n"
      ],
      "text/plain": [
       "\u001b[1m Total params: \u001b[0m\u001b[38;5;34m1,364,562\u001b[0m (5.21 MB)\n"
      ]
     },
     "metadata": {},
     "output_type": "display_data"
    },
    {
     "data": {
      "text/html": [
       "<pre style=\"white-space:pre;overflow-x:auto;line-height:normal;font-family:Menlo,'DejaVu Sans Mono',consolas,'Courier New',monospace\"><span style=\"font-weight: bold\"> Trainable params: </span><span style=\"color: #00af00; text-decoration-color: #00af00\">1,364,542</span> (5.21 MB)\n",
       "</pre>\n"
      ],
      "text/plain": [
       "\u001b[1m Trainable params: \u001b[0m\u001b[38;5;34m1,364,542\u001b[0m (5.21 MB)\n"
      ]
     },
     "metadata": {},
     "output_type": "display_data"
    },
    {
     "data": {
      "text/html": [
       "<pre style=\"white-space:pre;overflow-x:auto;line-height:normal;font-family:Menlo,'DejaVu Sans Mono',consolas,'Courier New',monospace\"><span style=\"font-weight: bold\"> Non-trainable params: </span><span style=\"color: #00af00; text-decoration-color: #00af00\">20</span> (80.00 B)\n",
       "</pre>\n"
      ],
      "text/plain": [
       "\u001b[1m Non-trainable params: \u001b[0m\u001b[38;5;34m20\u001b[0m (80.00 B)\n"
      ]
     },
     "metadata": {},
     "output_type": "display_data"
    },
    {
     "name": "stdout",
     "output_type": "stream",
     "text": [
      "\u001b[1m13/13\u001b[0m \u001b[32m━━━━━━━━━━━━━━━━━━━━\u001b[0m\u001b[37m\u001b[0m \u001b[1m3s\u001b[0m 189ms/step\n",
      "\n",
      "Model Type: TKAT\n",
      "------------------------------------\n",
      "Root Mean Squared Error (RMSE): 0.1667\n",
      "R-squared (R²) Score: -1.3777\n",
      "Mean Absolute Error (MAE): 0.1381\n",
      "\n",
      "\u001b[1m13/13\u001b[0m \u001b[32m━━━━━━━━━━━━━━━━━━━━\u001b[0m\u001b[37m\u001b[0m \u001b[1m2s\u001b[0m 140ms/step\n"
     ]
    }
   ],
   "source": [
    "num_unknow_features = len(assets)\n",
    "num_know_features = X_train.shape[2] - num_unknow_features\n",
    "\n",
    "model = TKAT(sequence_length, num_unknow_features, num_know_features, num_embedding, num_hidden, num_heads, n_ahead, use_tkan = True)\n",
    "\n",
    "model.compile(optimizer='adam', loss='mean_squared_error')\n",
    "\n",
    "model.summary()\n",
    "\n",
    "history = model.fit(X_train, y_train, batch_size=BATCH_SIZE, epochs=N_MAX_EPOCHS, validation_split=0.2, callbacks=callbacks(), shuffle=True, verbose = False)\n",
    "\n",
    "preds = model.predict(X_test).flatten()\n",
    "errors = preds - y_test.flatten()\n",
    "rmse = np.sqrt(np.mean(np.square(errors)))\n",
    "r2 = r2_score(y_true=y_test.flatten(), y_pred=preds)\n",
    "mae = np.mean(np.abs(errors))\n",
    "\n",
    "metrics_summary = f\"\"\"\n",
    "Model Type: TKAT\n",
    "------------------------------------\n",
    "Root Mean Squared Error (RMSE): {rmse:.4f}\n",
    "R-squared (R²) Score: {r2:.4f}\n",
    "Mean Absolute Error (MAE): {mae:.4f}\n",
    "\"\"\"\n",
    "print(metrics_summary)\n",
    "\n",
    "all_errors = {}\n",
    "preds = model.predict(X_test)\n",
    "errors = preds-y_test\n",
    "all_errors['TKAT'] = errors"
   ]
  },
  {
   "cell_type": "code",
   "execution_count": 38,
   "id": "02cd54e4-ccfa-4834-8e57-73867cd1ada6",
   "metadata": {},
   "outputs": [
    {
     "data": {
      "text/html": [
       "<pre style=\"white-space:pre;overflow-x:auto;line-height:normal;font-family:Menlo,'DejaVu Sans Mono',consolas,'Courier New',monospace\"><span style=\"font-weight: bold\">Model: \"sequential\"</span>\n",
       "</pre>\n"
      ],
      "text/plain": [
       "\u001b[1mModel: \"sequential\"\u001b[0m\n"
      ]
     },
     "metadata": {},
     "output_type": "display_data"
    },
    {
     "data": {
      "text/html": [
       "<pre style=\"white-space:pre;overflow-x:auto;line-height:normal;font-family:Menlo,'DejaVu Sans Mono',consolas,'Courier New',monospace\">┏━━━━━━━━━━━━━━━━━━━━━━━━━━━━━━━━━┳━━━━━━━━━━━━━━━━━━━━━━━━┳━━━━━━━━━━━━━━━┓\n",
       "┃<span style=\"font-weight: bold\"> Layer (type)                    </span>┃<span style=\"font-weight: bold\"> Output Shape           </span>┃<span style=\"font-weight: bold\">       Param # </span>┃\n",
       "┡━━━━━━━━━━━━━━━━━━━━━━━━━━━━━━━━━╇━━━━━━━━━━━━━━━━━━━━━━━━╇━━━━━━━━━━━━━━━┩\n",
       "│ tkan_2 (<span style=\"color: #0087ff; text-decoration-color: #0087ff\">TKAN</span>)                   │ (<span style=\"color: #00d7ff; text-decoration-color: #00d7ff\">None</span>, <span style=\"color: #00af00; text-decoration-color: #00af00\">150</span>, <span style=\"color: #00af00; text-decoration-color: #00af00\">100</span>)       │        <span style=\"color: #00af00; text-decoration-color: #00af00\">43,685</span> │\n",
       "├─────────────────────────────────┼────────────────────────┼───────────────┤\n",
       "│ tkan_3 (<span style=\"color: #0087ff; text-decoration-color: #0087ff\">TKAN</span>)                   │ (<span style=\"color: #00d7ff; text-decoration-color: #00d7ff\">None</span>, <span style=\"color: #00af00; text-decoration-color: #00af00\">100</span>)            │        <span style=\"color: #00af00; text-decoration-color: #00af00\">72,050</span> │\n",
       "├─────────────────────────────────┼────────────────────────┼───────────────┤\n",
       "│ dense_106 (<span style=\"color: #0087ff; text-decoration-color: #0087ff\">Dense</span>)               │ (<span style=\"color: #00d7ff; text-decoration-color: #00d7ff\">None</span>, <span style=\"color: #00af00; text-decoration-color: #00af00\">30</span>)             │         <span style=\"color: #00af00; text-decoration-color: #00af00\">3,030</span> │\n",
       "└─────────────────────────────────┴────────────────────────┴───────────────┘\n",
       "</pre>\n"
      ],
      "text/plain": [
       "┏━━━━━━━━━━━━━━━━━━━━━━━━━━━━━━━━━┳━━━━━━━━━━━━━━━━━━━━━━━━┳━━━━━━━━━━━━━━━┓\n",
       "┃\u001b[1m \u001b[0m\u001b[1mLayer (type)                   \u001b[0m\u001b[1m \u001b[0m┃\u001b[1m \u001b[0m\u001b[1mOutput Shape          \u001b[0m\u001b[1m \u001b[0m┃\u001b[1m \u001b[0m\u001b[1m      Param #\u001b[0m\u001b[1m \u001b[0m┃\n",
       "┡━━━━━━━━━━━━━━━━━━━━━━━━━━━━━━━━━╇━━━━━━━━━━━━━━━━━━━━━━━━╇━━━━━━━━━━━━━━━┩\n",
       "│ tkan_2 (\u001b[38;5;33mTKAN\u001b[0m)                   │ (\u001b[38;5;45mNone\u001b[0m, \u001b[38;5;34m150\u001b[0m, \u001b[38;5;34m100\u001b[0m)       │        \u001b[38;5;34m43,685\u001b[0m │\n",
       "├─────────────────────────────────┼────────────────────────┼───────────────┤\n",
       "│ tkan_3 (\u001b[38;5;33mTKAN\u001b[0m)                   │ (\u001b[38;5;45mNone\u001b[0m, \u001b[38;5;34m100\u001b[0m)            │        \u001b[38;5;34m72,050\u001b[0m │\n",
       "├─────────────────────────────────┼────────────────────────┼───────────────┤\n",
       "│ dense_106 (\u001b[38;5;33mDense\u001b[0m)               │ (\u001b[38;5;45mNone\u001b[0m, \u001b[38;5;34m30\u001b[0m)             │         \u001b[38;5;34m3,030\u001b[0m │\n",
       "└─────────────────────────────────┴────────────────────────┴───────────────┘\n"
      ]
     },
     "metadata": {},
     "output_type": "display_data"
    },
    {
     "data": {
      "text/html": [
       "<pre style=\"white-space:pre;overflow-x:auto;line-height:normal;font-family:Menlo,'DejaVu Sans Mono',consolas,'Courier New',monospace\"><span style=\"font-weight: bold\"> Total params: </span><span style=\"color: #00af00; text-decoration-color: #00af00\">118,765</span> (463.93 KB)\n",
       "</pre>\n"
      ],
      "text/plain": [
       "\u001b[1m Total params: \u001b[0m\u001b[38;5;34m118,765\u001b[0m (463.93 KB)\n"
      ]
     },
     "metadata": {},
     "output_type": "display_data"
    },
    {
     "data": {
      "text/html": [
       "<pre style=\"white-space:pre;overflow-x:auto;line-height:normal;font-family:Menlo,'DejaVu Sans Mono',consolas,'Courier New',monospace\"><span style=\"font-weight: bold\"> Trainable params: </span><span style=\"color: #00af00; text-decoration-color: #00af00\">118,665</span> (463.54 KB)\n",
       "</pre>\n"
      ],
      "text/plain": [
       "\u001b[1m Trainable params: \u001b[0m\u001b[38;5;34m118,665\u001b[0m (463.54 KB)\n"
      ]
     },
     "metadata": {},
     "output_type": "display_data"
    },
    {
     "data": {
      "text/html": [
       "<pre style=\"white-space:pre;overflow-x:auto;line-height:normal;font-family:Menlo,'DejaVu Sans Mono',consolas,'Courier New',monospace\"><span style=\"font-weight: bold\"> Non-trainable params: </span><span style=\"color: #00af00; text-decoration-color: #00af00\">100</span> (400.00 B)\n",
       "</pre>\n"
      ],
      "text/plain": [
       "\u001b[1m Non-trainable params: \u001b[0m\u001b[38;5;34m100\u001b[0m (400.00 B)\n"
      ]
     },
     "metadata": {},
     "output_type": "display_data"
    },
    {
     "name": "stdout",
     "output_type": "stream",
     "text": [
      "\u001b[1m13/13\u001b[0m \u001b[32m━━━━━━━━━━━━━━━━━━━━\u001b[0m\u001b[37m\u001b[0m \u001b[1m4s\u001b[0m 203ms/step\n"
     ]
    },
    {
     "data": {
      "text/html": [
       "<pre style=\"white-space:pre;overflow-x:auto;line-height:normal;font-family:Menlo,'DejaVu Sans Mono',consolas,'Courier New',monospace\"><span style=\"font-weight: bold\">Model: \"sequential_1\"</span>\n",
       "</pre>\n"
      ],
      "text/plain": [
       "\u001b[1mModel: \"sequential_1\"\u001b[0m\n"
      ]
     },
     "metadata": {},
     "output_type": "display_data"
    },
    {
     "data": {
      "text/html": [
       "<pre style=\"white-space:pre;overflow-x:auto;line-height:normal;font-family:Menlo,'DejaVu Sans Mono',consolas,'Courier New',monospace\">┏━━━━━━━━━━━━━━━━━━━━━━━━━━━━━━━━━┳━━━━━━━━━━━━━━━━━━━━━━━━┳━━━━━━━━━━━━━━━┓\n",
       "┃<span style=\"font-weight: bold\"> Layer (type)                    </span>┃<span style=\"font-weight: bold\"> Output Shape           </span>┃<span style=\"font-weight: bold\">       Param # </span>┃\n",
       "┡━━━━━━━━━━━━━━━━━━━━━━━━━━━━━━━━━╇━━━━━━━━━━━━━━━━━━━━━━━━╇━━━━━━━━━━━━━━━┩\n",
       "│ flatten_1 (<span style=\"color: #0087ff; text-decoration-color: #0087ff\">Flatten</span>)             │ (<span style=\"color: #00d7ff; text-decoration-color: #00d7ff\">None</span>, <span style=\"color: #00af00; text-decoration-color: #00af00\">1050</span>)           │             <span style=\"color: #00af00; text-decoration-color: #00af00\">0</span> │\n",
       "├─────────────────────────────────┼────────────────────────┼───────────────┤\n",
       "│ dense_107 (<span style=\"color: #0087ff; text-decoration-color: #0087ff\">Dense</span>)               │ (<span style=\"color: #00d7ff; text-decoration-color: #00d7ff\">None</span>, <span style=\"color: #00af00; text-decoration-color: #00af00\">100</span>)            │       <span style=\"color: #00af00; text-decoration-color: #00af00\">105,100</span> │\n",
       "├─────────────────────────────────┼────────────────────────┼───────────────┤\n",
       "│ dense_108 (<span style=\"color: #0087ff; text-decoration-color: #0087ff\">Dense</span>)               │ (<span style=\"color: #00d7ff; text-decoration-color: #00d7ff\">None</span>, <span style=\"color: #00af00; text-decoration-color: #00af00\">100</span>)            │        <span style=\"color: #00af00; text-decoration-color: #00af00\">10,100</span> │\n",
       "├─────────────────────────────────┼────────────────────────┼───────────────┤\n",
       "│ dense_109 (<span style=\"color: #0087ff; text-decoration-color: #0087ff\">Dense</span>)               │ (<span style=\"color: #00d7ff; text-decoration-color: #00d7ff\">None</span>, <span style=\"color: #00af00; text-decoration-color: #00af00\">30</span>)             │         <span style=\"color: #00af00; text-decoration-color: #00af00\">3,030</span> │\n",
       "└─────────────────────────────────┴────────────────────────┴───────────────┘\n",
       "</pre>\n"
      ],
      "text/plain": [
       "┏━━━━━━━━━━━━━━━━━━━━━━━━━━━━━━━━━┳━━━━━━━━━━━━━━━━━━━━━━━━┳━━━━━━━━━━━━━━━┓\n",
       "┃\u001b[1m \u001b[0m\u001b[1mLayer (type)                   \u001b[0m\u001b[1m \u001b[0m┃\u001b[1m \u001b[0m\u001b[1mOutput Shape          \u001b[0m\u001b[1m \u001b[0m┃\u001b[1m \u001b[0m\u001b[1m      Param #\u001b[0m\u001b[1m \u001b[0m┃\n",
       "┡━━━━━━━━━━━━━━━━━━━━━━━━━━━━━━━━━╇━━━━━━━━━━━━━━━━━━━━━━━━╇━━━━━━━━━━━━━━━┩\n",
       "│ flatten_1 (\u001b[38;5;33mFlatten\u001b[0m)             │ (\u001b[38;5;45mNone\u001b[0m, \u001b[38;5;34m1050\u001b[0m)           │             \u001b[38;5;34m0\u001b[0m │\n",
       "├─────────────────────────────────┼────────────────────────┼───────────────┤\n",
       "│ dense_107 (\u001b[38;5;33mDense\u001b[0m)               │ (\u001b[38;5;45mNone\u001b[0m, \u001b[38;5;34m100\u001b[0m)            │       \u001b[38;5;34m105,100\u001b[0m │\n",
       "├─────────────────────────────────┼────────────────────────┼───────────────┤\n",
       "│ dense_108 (\u001b[38;5;33mDense\u001b[0m)               │ (\u001b[38;5;45mNone\u001b[0m, \u001b[38;5;34m100\u001b[0m)            │        \u001b[38;5;34m10,100\u001b[0m │\n",
       "├─────────────────────────────────┼────────────────────────┼───────────────┤\n",
       "│ dense_109 (\u001b[38;5;33mDense\u001b[0m)               │ (\u001b[38;5;45mNone\u001b[0m, \u001b[38;5;34m30\u001b[0m)             │         \u001b[38;5;34m3,030\u001b[0m │\n",
       "└─────────────────────────────────┴────────────────────────┴───────────────┘\n"
      ]
     },
     "metadata": {},
     "output_type": "display_data"
    },
    {
     "data": {
      "text/html": [
       "<pre style=\"white-space:pre;overflow-x:auto;line-height:normal;font-family:Menlo,'DejaVu Sans Mono',consolas,'Courier New',monospace\"><span style=\"font-weight: bold\"> Total params: </span><span style=\"color: #00af00; text-decoration-color: #00af00\">118,230</span> (461.84 KB)\n",
       "</pre>\n"
      ],
      "text/plain": [
       "\u001b[1m Total params: \u001b[0m\u001b[38;5;34m118,230\u001b[0m (461.84 KB)\n"
      ]
     },
     "metadata": {},
     "output_type": "display_data"
    },
    {
     "data": {
      "text/html": [
       "<pre style=\"white-space:pre;overflow-x:auto;line-height:normal;font-family:Menlo,'DejaVu Sans Mono',consolas,'Courier New',monospace\"><span style=\"font-weight: bold\"> Trainable params: </span><span style=\"color: #00af00; text-decoration-color: #00af00\">118,230</span> (461.84 KB)\n",
       "</pre>\n"
      ],
      "text/plain": [
       "\u001b[1m Trainable params: \u001b[0m\u001b[38;5;34m118,230\u001b[0m (461.84 KB)\n"
      ]
     },
     "metadata": {},
     "output_type": "display_data"
    },
    {
     "data": {
      "text/html": [
       "<pre style=\"white-space:pre;overflow-x:auto;line-height:normal;font-family:Menlo,'DejaVu Sans Mono',consolas,'Courier New',monospace\"><span style=\"font-weight: bold\"> Non-trainable params: </span><span style=\"color: #00af00; text-decoration-color: #00af00\">0</span> (0.00 B)\n",
       "</pre>\n"
      ],
      "text/plain": [
       "\u001b[1m Non-trainable params: \u001b[0m\u001b[38;5;34m0\u001b[0m (0.00 B)\n"
      ]
     },
     "metadata": {},
     "output_type": "display_data"
    },
    {
     "name": "stdout",
     "output_type": "stream",
     "text": [
      "\u001b[1m13/13\u001b[0m \u001b[32m━━━━━━━━━━━━━━━━━━━━\u001b[0m\u001b[37m\u001b[0m \u001b[1m0s\u001b[0m 1ms/step \n"
     ]
    },
    {
     "data": {
      "text/html": [
       "<pre style=\"white-space:pre;overflow-x:auto;line-height:normal;font-family:Menlo,'DejaVu Sans Mono',consolas,'Courier New',monospace\"><span style=\"font-weight: bold\">Model: \"sequential_2\"</span>\n",
       "</pre>\n"
      ],
      "text/plain": [
       "\u001b[1mModel: \"sequential_2\"\u001b[0m\n"
      ]
     },
     "metadata": {},
     "output_type": "display_data"
    },
    {
     "data": {
      "text/html": [
       "<pre style=\"white-space:pre;overflow-x:auto;line-height:normal;font-family:Menlo,'DejaVu Sans Mono',consolas,'Courier New',monospace\">┏━━━━━━━━━━━━━━━━━━━━━━━━━━━━━━━━━┳━━━━━━━━━━━━━━━━━━━━━━━━┳━━━━━━━━━━━━━━━┓\n",
       "┃<span style=\"font-weight: bold\"> Layer (type)                    </span>┃<span style=\"font-weight: bold\"> Output Shape           </span>┃<span style=\"font-weight: bold\">       Param # </span>┃\n",
       "┡━━━━━━━━━━━━━━━━━━━━━━━━━━━━━━━━━╇━━━━━━━━━━━━━━━━━━━━━━━━╇━━━━━━━━━━━━━━━┩\n",
       "│ gru (<span style=\"color: #0087ff; text-decoration-color: #0087ff\">GRU</span>)                       │ (<span style=\"color: #00d7ff; text-decoration-color: #00d7ff\">None</span>, <span style=\"color: #00af00; text-decoration-color: #00af00\">150</span>, <span style=\"color: #00af00; text-decoration-color: #00af00\">100</span>)       │        <span style=\"color: #00af00; text-decoration-color: #00af00\">32,700</span> │\n",
       "├─────────────────────────────────┼────────────────────────┼───────────────┤\n",
       "│ gru_1 (<span style=\"color: #0087ff; text-decoration-color: #0087ff\">GRU</span>)                     │ (<span style=\"color: #00d7ff; text-decoration-color: #00d7ff\">None</span>, <span style=\"color: #00af00; text-decoration-color: #00af00\">100</span>)            │        <span style=\"color: #00af00; text-decoration-color: #00af00\">60,600</span> │\n",
       "├─────────────────────────────────┼────────────────────────┼───────────────┤\n",
       "│ dense_110 (<span style=\"color: #0087ff; text-decoration-color: #0087ff\">Dense</span>)               │ (<span style=\"color: #00d7ff; text-decoration-color: #00d7ff\">None</span>, <span style=\"color: #00af00; text-decoration-color: #00af00\">30</span>)             │         <span style=\"color: #00af00; text-decoration-color: #00af00\">3,030</span> │\n",
       "└─────────────────────────────────┴────────────────────────┴───────────────┘\n",
       "</pre>\n"
      ],
      "text/plain": [
       "┏━━━━━━━━━━━━━━━━━━━━━━━━━━━━━━━━━┳━━━━━━━━━━━━━━━━━━━━━━━━┳━━━━━━━━━━━━━━━┓\n",
       "┃\u001b[1m \u001b[0m\u001b[1mLayer (type)                   \u001b[0m\u001b[1m \u001b[0m┃\u001b[1m \u001b[0m\u001b[1mOutput Shape          \u001b[0m\u001b[1m \u001b[0m┃\u001b[1m \u001b[0m\u001b[1m      Param #\u001b[0m\u001b[1m \u001b[0m┃\n",
       "┡━━━━━━━━━━━━━━━━━━━━━━━━━━━━━━━━━╇━━━━━━━━━━━━━━━━━━━━━━━━╇━━━━━━━━━━━━━━━┩\n",
       "│ gru (\u001b[38;5;33mGRU\u001b[0m)                       │ (\u001b[38;5;45mNone\u001b[0m, \u001b[38;5;34m150\u001b[0m, \u001b[38;5;34m100\u001b[0m)       │        \u001b[38;5;34m32,700\u001b[0m │\n",
       "├─────────────────────────────────┼────────────────────────┼───────────────┤\n",
       "│ gru_1 (\u001b[38;5;33mGRU\u001b[0m)                     │ (\u001b[38;5;45mNone\u001b[0m, \u001b[38;5;34m100\u001b[0m)            │        \u001b[38;5;34m60,600\u001b[0m │\n",
       "├─────────────────────────────────┼────────────────────────┼───────────────┤\n",
       "│ dense_110 (\u001b[38;5;33mDense\u001b[0m)               │ (\u001b[38;5;45mNone\u001b[0m, \u001b[38;5;34m30\u001b[0m)             │         \u001b[38;5;34m3,030\u001b[0m │\n",
       "└─────────────────────────────────┴────────────────────────┴───────────────┘\n"
      ]
     },
     "metadata": {},
     "output_type": "display_data"
    },
    {
     "data": {
      "text/html": [
       "<pre style=\"white-space:pre;overflow-x:auto;line-height:normal;font-family:Menlo,'DejaVu Sans Mono',consolas,'Courier New',monospace\"><span style=\"font-weight: bold\"> Total params: </span><span style=\"color: #00af00; text-decoration-color: #00af00\">96,330</span> (376.29 KB)\n",
       "</pre>\n"
      ],
      "text/plain": [
       "\u001b[1m Total params: \u001b[0m\u001b[38;5;34m96,330\u001b[0m (376.29 KB)\n"
      ]
     },
     "metadata": {},
     "output_type": "display_data"
    },
    {
     "data": {
      "text/html": [
       "<pre style=\"white-space:pre;overflow-x:auto;line-height:normal;font-family:Menlo,'DejaVu Sans Mono',consolas,'Courier New',monospace\"><span style=\"font-weight: bold\"> Trainable params: </span><span style=\"color: #00af00; text-decoration-color: #00af00\">96,330</span> (376.29 KB)\n",
       "</pre>\n"
      ],
      "text/plain": [
       "\u001b[1m Trainable params: \u001b[0m\u001b[38;5;34m96,330\u001b[0m (376.29 KB)\n"
      ]
     },
     "metadata": {},
     "output_type": "display_data"
    },
    {
     "data": {
      "text/html": [
       "<pre style=\"white-space:pre;overflow-x:auto;line-height:normal;font-family:Menlo,'DejaVu Sans Mono',consolas,'Courier New',monospace\"><span style=\"font-weight: bold\"> Non-trainable params: </span><span style=\"color: #00af00; text-decoration-color: #00af00\">0</span> (0.00 B)\n",
       "</pre>\n"
      ],
      "text/plain": [
       "\u001b[1m Non-trainable params: \u001b[0m\u001b[38;5;34m0\u001b[0m (0.00 B)\n"
      ]
     },
     "metadata": {},
     "output_type": "display_data"
    },
    {
     "name": "stdout",
     "output_type": "stream",
     "text": [
      "\u001b[1m13/13\u001b[0m \u001b[32m━━━━━━━━━━━━━━━━━━━━\u001b[0m\u001b[37m\u001b[0m \u001b[1m1s\u001b[0m 41ms/step\n"
     ]
    },
    {
     "data": {
      "text/html": [
       "<pre style=\"white-space:pre;overflow-x:auto;line-height:normal;font-family:Menlo,'DejaVu Sans Mono',consolas,'Courier New',monospace\"><span style=\"font-weight: bold\">Model: \"sequential_3\"</span>\n",
       "</pre>\n"
      ],
      "text/plain": [
       "\u001b[1mModel: \"sequential_3\"\u001b[0m\n"
      ]
     },
     "metadata": {},
     "output_type": "display_data"
    },
    {
     "data": {
      "text/html": [
       "<pre style=\"white-space:pre;overflow-x:auto;line-height:normal;font-family:Menlo,'DejaVu Sans Mono',consolas,'Courier New',monospace\">┏━━━━━━━━━━━━━━━━━━━━━━━━━━━━━━━━━┳━━━━━━━━━━━━━━━━━━━━━━━━┳━━━━━━━━━━━━━━━┓\n",
       "┃<span style=\"font-weight: bold\"> Layer (type)                    </span>┃<span style=\"font-weight: bold\"> Output Shape           </span>┃<span style=\"font-weight: bold\">       Param # </span>┃\n",
       "┡━━━━━━━━━━━━━━━━━━━━━━━━━━━━━━━━━╇━━━━━━━━━━━━━━━━━━━━━━━━╇━━━━━━━━━━━━━━━┩\n",
       "│ lstm (<span style=\"color: #0087ff; text-decoration-color: #0087ff\">LSTM</span>)                     │ (<span style=\"color: #00d7ff; text-decoration-color: #00d7ff\">None</span>, <span style=\"color: #00af00; text-decoration-color: #00af00\">150</span>, <span style=\"color: #00af00; text-decoration-color: #00af00\">100</span>)       │        <span style=\"color: #00af00; text-decoration-color: #00af00\">43,200</span> │\n",
       "├─────────────────────────────────┼────────────────────────┼───────────────┤\n",
       "│ lstm_1 (<span style=\"color: #0087ff; text-decoration-color: #0087ff\">LSTM</span>)                   │ (<span style=\"color: #00d7ff; text-decoration-color: #00d7ff\">None</span>, <span style=\"color: #00af00; text-decoration-color: #00af00\">100</span>)            │        <span style=\"color: #00af00; text-decoration-color: #00af00\">80,400</span> │\n",
       "├─────────────────────────────────┼────────────────────────┼───────────────┤\n",
       "│ dense_111 (<span style=\"color: #0087ff; text-decoration-color: #0087ff\">Dense</span>)               │ (<span style=\"color: #00d7ff; text-decoration-color: #00d7ff\">None</span>, <span style=\"color: #00af00; text-decoration-color: #00af00\">30</span>)             │         <span style=\"color: #00af00; text-decoration-color: #00af00\">3,030</span> │\n",
       "└─────────────────────────────────┴────────────────────────┴───────────────┘\n",
       "</pre>\n"
      ],
      "text/plain": [
       "┏━━━━━━━━━━━━━━━━━━━━━━━━━━━━━━━━━┳━━━━━━━━━━━━━━━━━━━━━━━━┳━━━━━━━━━━━━━━━┓\n",
       "┃\u001b[1m \u001b[0m\u001b[1mLayer (type)                   \u001b[0m\u001b[1m \u001b[0m┃\u001b[1m \u001b[0m\u001b[1mOutput Shape          \u001b[0m\u001b[1m \u001b[0m┃\u001b[1m \u001b[0m\u001b[1m      Param #\u001b[0m\u001b[1m \u001b[0m┃\n",
       "┡━━━━━━━━━━━━━━━━━━━━━━━━━━━━━━━━━╇━━━━━━━━━━━━━━━━━━━━━━━━╇━━━━━━━━━━━━━━━┩\n",
       "│ lstm (\u001b[38;5;33mLSTM\u001b[0m)                     │ (\u001b[38;5;45mNone\u001b[0m, \u001b[38;5;34m150\u001b[0m, \u001b[38;5;34m100\u001b[0m)       │        \u001b[38;5;34m43,200\u001b[0m │\n",
       "├─────────────────────────────────┼────────────────────────┼───────────────┤\n",
       "│ lstm_1 (\u001b[38;5;33mLSTM\u001b[0m)                   │ (\u001b[38;5;45mNone\u001b[0m, \u001b[38;5;34m100\u001b[0m)            │        \u001b[38;5;34m80,400\u001b[0m │\n",
       "├─────────────────────────────────┼────────────────────────┼───────────────┤\n",
       "│ dense_111 (\u001b[38;5;33mDense\u001b[0m)               │ (\u001b[38;5;45mNone\u001b[0m, \u001b[38;5;34m30\u001b[0m)             │         \u001b[38;5;34m3,030\u001b[0m │\n",
       "└─────────────────────────────────┴────────────────────────┴───────────────┘\n"
      ]
     },
     "metadata": {},
     "output_type": "display_data"
    },
    {
     "data": {
      "text/html": [
       "<pre style=\"white-space:pre;overflow-x:auto;line-height:normal;font-family:Menlo,'DejaVu Sans Mono',consolas,'Courier New',monospace\"><span style=\"font-weight: bold\"> Total params: </span><span style=\"color: #00af00; text-decoration-color: #00af00\">126,630</span> (494.65 KB)\n",
       "</pre>\n"
      ],
      "text/plain": [
       "\u001b[1m Total params: \u001b[0m\u001b[38;5;34m126,630\u001b[0m (494.65 KB)\n"
      ]
     },
     "metadata": {},
     "output_type": "display_data"
    },
    {
     "data": {
      "text/html": [
       "<pre style=\"white-space:pre;overflow-x:auto;line-height:normal;font-family:Menlo,'DejaVu Sans Mono',consolas,'Courier New',monospace\"><span style=\"font-weight: bold\"> Trainable params: </span><span style=\"color: #00af00; text-decoration-color: #00af00\">126,630</span> (494.65 KB)\n",
       "</pre>\n"
      ],
      "text/plain": [
       "\u001b[1m Trainable params: \u001b[0m\u001b[38;5;34m126,630\u001b[0m (494.65 KB)\n"
      ]
     },
     "metadata": {},
     "output_type": "display_data"
    },
    {
     "data": {
      "text/html": [
       "<pre style=\"white-space:pre;overflow-x:auto;line-height:normal;font-family:Menlo,'DejaVu Sans Mono',consolas,'Courier New',monospace\"><span style=\"font-weight: bold\"> Non-trainable params: </span><span style=\"color: #00af00; text-decoration-color: #00af00\">0</span> (0.00 B)\n",
       "</pre>\n"
      ],
      "text/plain": [
       "\u001b[1m Non-trainable params: \u001b[0m\u001b[38;5;34m0\u001b[0m (0.00 B)\n"
      ]
     },
     "metadata": {},
     "output_type": "display_data"
    },
    {
     "name": "stdout",
     "output_type": "stream",
     "text": [
      "\u001b[1m13/13\u001b[0m \u001b[32m━━━━━━━━━━━━━━━━━━━━\u001b[0m\u001b[37m\u001b[0m \u001b[1m1s\u001b[0m 39ms/step\n"
     ]
    }
   ],
   "source": [
    "models = ['TKAN', 'MLP', 'GRU', 'LSTM']\n",
    "\n",
    "\n",
    "for model_type in models:\n",
    "    \n",
    "    X_scaler, X_train, X_test, X_train_unscaled, X_test_unscaled, y_scaler, y_train, y_test, y_train_unscaled, y_test_unscaled, y_scaler_train, y_scaler_test = generate_data(df, sequence_length, n_ahead)\n",
    "\n",
    "    if 'TKAN' in model_type:\n",
    "        model = Sequential([\n",
    "            Input(shape=X_train.shape[1:]),\n",
    "            TKAN(100, tkan_activations=[{'grid_size': 3} for i in range(5)], sub_kan_output_dim = 20, sub_kan_input_dim = 1, return_sequences=True),\n",
    "            TKAN(100, tkan_activations=[{'grid_size': 3} for i in range(5)], sub_kan_output_dim = 20, sub_kan_input_dim = 1, return_sequences=False),\n",
    "            Dense(units=n_ahead, activation='linear')\n",
    "        ])\n",
    "    elif 'GRU' in model_type:\n",
    "        model = Sequential([\n",
    "            Input(shape=X_train.shape[1:]),\n",
    "            GRU(100, return_sequences=True),\n",
    "            GRU(100, return_sequences=False),\n",
    "            Dense(units=n_ahead, activation='linear')\n",
    "        ])\n",
    "    elif 'LSTM' in model_type:\n",
    "        model = Sequential([\n",
    "            Input(shape=X_train.shape[1:]),\n",
    "            LSTM(100, return_sequences=True),\n",
    "            LSTM(100, return_sequences=False),\n",
    "            Dense(units=n_ahead, activation='linear')\n",
    "        ])\n",
    "    elif 'MLP' in model_type:\n",
    "        model = Sequential([\n",
    "            Input(shape=X_train.shape[1:]),\n",
    "            Flatten(),\n",
    "            Dense(100, activation='relu'),\n",
    "            Dense(100, activation='relu'),\n",
    "            Dense(units=n_ahead, activation='linear')\n",
    "        ])\n",
    "    \n",
    "    optimizer = tf.keras.optimizers.Adam(0.001)\n",
    "    model.compile(optimizer=optimizer, loss='mean_squared_error')\n",
    "\n",
    "    model.summary()\n",
    "\n",
    "    history = model.fit(X_train, y_train, batch_size=BATCH_SIZE, epochs=N_MAX_EPOCHS, validation_split=0.2, callbacks=callbacks(), shuffle=True, verbose = False)\n",
    "    preds = model.predict(X_test)\n",
    "    errors = preds-y_test\n",
    "    all_errors[model_type] = errors"
   ]
  },
  {
   "cell_type": "code",
   "execution_count": 40,
   "id": "9f7d4f23-7ee8-4bc9-b470-e8fc3e58c5a0",
   "metadata": {},
   "outputs": [
    {
     "data": {
      "image/png": "[encoded data removed]",
      "text/plain": [
       "<Figure size 640x480 with 1 Axes>"
      ]
     },
     "metadata": {},
     "output_type": "display_data"
    }
   ],
   "source": [
    "model_types = ['TKAT', 'TKAN', 'MLP', 'GRU', 'LSTM']\n",
    "grey_shades = ['#1f77b4', '#ff7f0e', '#2ca02c', '#d62728', '#9467bd']  # Darker to lighter\n",
    "\n",
    "for model_type, color in zip(model_types, grey_shades):\n",
    "    y_pred = all_errors[model_type] + y_test\n",
    "    r2 = r2_score(y_true=y_test.flatten(), y_pred=y_pred.flatten())\n",
    "    plt.plot(np.mean(all_errors[model_type]**2, axis=0), label=f'{model_type}: R2={round(r2,4)}', color=color)\n",
    "\n",
    "plt.legend()\n",
    "plt.title('Model and errors based on number of steps forward')\n",
    "plt.xlabel('number of steps forward')\n",
    "plt.ylabel('Mean Squared Error')\n",
    "plt.show()"
   ]
  },
  {
   "cell_type": "code",
   "execution_count": null,
   "id": "03612377-080b-42d1-8239-9eb9fc1341ef",
   "metadata": {},
   "outputs": [],
   "source": []
  }
 ],
 "metadata": {
  "kernelspec": {
   "display_name": "Python 3.10 (myenv)",
   "language": "python",
   "name": "myenv"
  },
  "language_info": {
   "codemirror_mode": {
    "name": "ipython",
    "version": 3
   },
   "file_extension": ".py",
   "mimetype": "text/x-python",
   "name": "python",
   "nbconvert_exporter": "python",
   "pygments_lexer": "ipython3",
   "version": "3.10.15"
  }
 },
 "nbformat": 4,
 "nbformat_minor": 5
}
